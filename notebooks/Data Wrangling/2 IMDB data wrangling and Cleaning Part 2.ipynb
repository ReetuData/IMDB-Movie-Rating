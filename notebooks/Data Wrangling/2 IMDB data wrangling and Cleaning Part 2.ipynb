{
 "cells": [
  {
   "cell_type": "markdown",
   "metadata": {},
   "source": [
    "### Importing Libraries"
   ]
  },
  {
   "cell_type": "code",
   "execution_count": 1,
   "metadata": {},
   "outputs": [],
   "source": [
    "import pandas as pd\n",
    "import numpy as np\n",
    "from datetime import date\n",
    "from scipy import stats\n"
   ]
  },
  {
   "cell_type": "markdown",
   "metadata": {},
   "source": [
    "### Loading Merged IMDB dataset"
   ]
  },
  {
   "cell_type": "code",
   "execution_count": 2,
   "metadata": {},
   "outputs": [
    {
     "name": "stderr",
     "output_type": "stream",
     "text": [
      "C:\\Users\\vishd\\anaconda3\\lib\\site-packages\\IPython\\core\\interactiveshell.py:3444: DtypeWarning: Columns (1,2,3,4,5,6,7,8,13,15,16,17) have mixed types.Specify dtype option on import or set low_memory=False.\n",
      "  exec(code_obj, self.user_global_ns, self.user_ns)\n"
     ]
    },
    {
     "data": {
      "text/html": [
       "<div>\n",
       "<style scoped>\n",
       "    .dataframe tbody tr th:only-of-type {\n",
       "        vertical-align: middle;\n",
       "    }\n",
       "\n",
       "    .dataframe tbody tr th {\n",
       "        vertical-align: top;\n",
       "    }\n",
       "\n",
       "    .dataframe thead th {\n",
       "        text-align: right;\n",
       "    }\n",
       "</style>\n",
       "<table border=\"1\" class=\"dataframe\">\n",
       "  <thead>\n",
       "    <tr style=\"text-align: right;\">\n",
       "      <th></th>\n",
       "      <th>Unnamed: 0</th>\n",
       "      <th>titleId</th>\n",
       "      <th>title</th>\n",
       "      <th>region</th>\n",
       "      <th>titleType</th>\n",
       "      <th>startYear</th>\n",
       "      <th>genres</th>\n",
       "      <th>directors</th>\n",
       "      <th>writers</th>\n",
       "      <th>averageRating_x</th>\n",
       "      <th>numVotes_x</th>\n",
       "      <th>averageRating_y</th>\n",
       "      <th>numVotes_y</th>\n",
       "      <th>primaryName_Director</th>\n",
       "      <th>birthYear_Director</th>\n",
       "      <th>deathYear</th>\n",
       "      <th>primaryProfession_director</th>\n",
       "      <th>Dir_knownForTitles</th>\n",
       "    </tr>\n",
       "  </thead>\n",
       "  <tbody>\n",
       "    <tr>\n",
       "      <th>0</th>\n",
       "      <td>0</td>\n",
       "      <td>tt0000019</td>\n",
       "      <td>The Clown Barber</td>\n",
       "      <td>GB</td>\n",
       "      <td>short</td>\n",
       "      <td>1898</td>\n",
       "      <td>Comedy,Short</td>\n",
       "      <td>nm0932055</td>\n",
       "      <td>\\N</td>\n",
       "      <td>5.3</td>\n",
       "      <td>19.0</td>\n",
       "      <td>5.3</td>\n",
       "      <td>19.0</td>\n",
       "      <td>NaN</td>\n",
       "      <td>NaN</td>\n",
       "      <td>NaN</td>\n",
       "      <td>NaN</td>\n",
       "      <td>NaN</td>\n",
       "    </tr>\n",
       "    <tr>\n",
       "      <th>1</th>\n",
       "      <td>1</td>\n",
       "      <td>tt0232670</td>\n",
       "      <td>The Soldier's Return</td>\n",
       "      <td>GB</td>\n",
       "      <td>short</td>\n",
       "      <td>1903</td>\n",
       "      <td>Drama,Short</td>\n",
       "      <td>nm0932055</td>\n",
       "      <td>\\N</td>\n",
       "      <td>NaN</td>\n",
       "      <td>NaN</td>\n",
       "      <td>NaN</td>\n",
       "      <td>NaN</td>\n",
       "      <td>NaN</td>\n",
       "      <td>NaN</td>\n",
       "      <td>NaN</td>\n",
       "      <td>NaN</td>\n",
       "      <td>NaN</td>\n",
       "    </tr>\n",
       "  </tbody>\n",
       "</table>\n",
       "</div>"
      ],
      "text/plain": [
       "   Unnamed: 0    titleId                 title region titleType startYear  \\\n",
       "0           0  tt0000019      The Clown Barber     GB     short      1898   \n",
       "1           1  tt0232670  The Soldier's Return     GB     short      1903   \n",
       "\n",
       "         genres  directors writers  averageRating_x  numVotes_x  \\\n",
       "0  Comedy,Short  nm0932055      \\N              5.3        19.0   \n",
       "1   Drama,Short  nm0932055      \\N              NaN         NaN   \n",
       "\n",
       "   averageRating_y  numVotes_y primaryName_Director  birthYear_Director  \\\n",
       "0              5.3        19.0                  NaN                 NaN   \n",
       "1              NaN         NaN                  NaN                 NaN   \n",
       "\n",
       "  deathYear primaryProfession_director Dir_knownForTitles  \n",
       "0       NaN                        NaN                NaN  \n",
       "1       NaN                        NaN                NaN  "
      ]
     },
     "execution_count": 2,
     "metadata": {},
     "output_type": "execute_result"
    }
   ],
   "source": [
    "Final_IMDB_data = \"../../data/processed/Final_DF1.csv\"\n",
    "Final_IMDB_data = pd.read_csv(Final_IMDB_data)#, sep='\\t')                                                 # loading first files\n",
    "Final_IMDB_data.head(2)"
   ]
  },
  {
   "cell_type": "code",
   "execution_count": 73,
   "metadata": {},
   "outputs": [
    {
     "data": {
      "text/plain": [
       "Index(['Unnamed: 0', 'titleId', 'title', 'region', 'titleType', 'startYear',\n",
       "       'genres', 'directors', 'writers', 'averageRating_x', 'numVotes_x',\n",
       "       'averageRating_y', 'numVotes_y', 'primaryName_Director',\n",
       "       'birthYear_Director', 'deathYear', 'primaryProfession_director',\n",
       "       'Dir_knownForTitles'],\n",
       "      dtype='object')"
      ]
     },
     "execution_count": 73,
     "metadata": {},
     "output_type": "execute_result"
    }
   ],
   "source": [
    "Final_IMDB_data.columns"
   ]
  },
  {
   "cell_type": "code",
   "execution_count": 3,
   "metadata": {},
   "outputs": [
    {
     "data": {
      "text/plain": [
       "0           1898\n",
       "1           1903\n",
       "2           1905\n",
       "3           1898\n",
       "4           1898\n",
       "            ... \n",
       "14999140     NaN\n",
       "14999141     NaN\n",
       "14999142     NaN\n",
       "14999143     NaN\n",
       "14999144     NaN\n",
       "Name: startYear, Length: 14999145, dtype: object"
      ]
     },
     "execution_count": 3,
     "metadata": {},
     "output_type": "execute_result"
    }
   ],
   "source": [
    "Final_IMDB_data['startYear']"
   ]
  },
  {
   "cell_type": "markdown",
   "metadata": {},
   "source": [
    "### Checking shape of the DataFrame"
   ]
  },
  {
   "cell_type": "code",
   "execution_count": 4,
   "metadata": {},
   "outputs": [
    {
     "data": {
      "text/plain": [
       "(14999145, 18)"
      ]
     },
     "execution_count": 4,
     "metadata": {},
     "output_type": "execute_result"
    }
   ],
   "source": [
    "Final_IMDB_data.shape"
   ]
  },
  {
   "cell_type": "markdown",
   "metadata": {},
   "source": [
    "### Removing Duplicates"
   ]
  },
  {
   "cell_type": "code",
   "execution_count": 5,
   "metadata": {},
   "outputs": [
    {
     "data": {
      "text/plain": [
       "(14999145, 18)"
      ]
     },
     "execution_count": 5,
     "metadata": {},
     "output_type": "execute_result"
    }
   ],
   "source": [
    "IMDB_data_NoDup = Final_IMDB_data.drop_duplicates(subset=None, keep='first')                              \n",
    "IMDB_data_NoDup.shape"
   ]
  },
  {
   "cell_type": "code",
   "execution_count": 6,
   "metadata": {},
   "outputs": [],
   "source": [
    "#IMDB_data_NoDup['startYear'].unique()"
   ]
  },
  {
   "cell_type": "markdown",
   "metadata": {},
   "source": [
    "#### Dropping duplicated column from AveRating and numvotes"
   ]
  },
  {
   "cell_type": "code",
   "execution_count": 7,
   "metadata": {},
   "outputs": [],
   "source": [
    "IMDB_data_NoDup = IMDB_data_NoDup.drop(columns=['averageRating_y', 'numVotes_y'])"
   ]
  },
  {
   "cell_type": "code",
   "execution_count": 8,
   "metadata": {},
   "outputs": [],
   "source": [
    "#IMDB_data_NoDup['startYear'].unique()"
   ]
  },
  {
   "cell_type": "markdown",
   "metadata": {},
   "source": [
    "#### Rename col AveRating and numvotes"
   ]
  },
  {
   "cell_type": "code",
   "execution_count": 9,
   "metadata": {},
   "outputs": [
    {
     "data": {
      "text/html": [
       "<div>\n",
       "<style scoped>\n",
       "    .dataframe tbody tr th:only-of-type {\n",
       "        vertical-align: middle;\n",
       "    }\n",
       "\n",
       "    .dataframe tbody tr th {\n",
       "        vertical-align: top;\n",
       "    }\n",
       "\n",
       "    .dataframe thead th {\n",
       "        text-align: right;\n",
       "    }\n",
       "</style>\n",
       "<table border=\"1\" class=\"dataframe\">\n",
       "  <thead>\n",
       "    <tr style=\"text-align: right;\">\n",
       "      <th></th>\n",
       "      <th>Index</th>\n",
       "      <th>titleId</th>\n",
       "      <th>title</th>\n",
       "      <th>region</th>\n",
       "      <th>titleType</th>\n",
       "      <th>startYear</th>\n",
       "      <th>genres</th>\n",
       "      <th>directors</th>\n",
       "      <th>writers</th>\n",
       "      <th>AveRating</th>\n",
       "      <th>numVotes</th>\n",
       "      <th>primaryName_Director</th>\n",
       "      <th>birthYear_Director</th>\n",
       "      <th>deathYear</th>\n",
       "      <th>primaryProfession_director</th>\n",
       "      <th>Dir_knownForTitles</th>\n",
       "    </tr>\n",
       "  </thead>\n",
       "  <tbody>\n",
       "    <tr>\n",
       "      <th>0</th>\n",
       "      <td>0</td>\n",
       "      <td>tt0000019</td>\n",
       "      <td>The Clown Barber</td>\n",
       "      <td>GB</td>\n",
       "      <td>short</td>\n",
       "      <td>1898</td>\n",
       "      <td>Comedy,Short</td>\n",
       "      <td>nm0932055</td>\n",
       "      <td>\\N</td>\n",
       "      <td>5.3</td>\n",
       "      <td>19.0</td>\n",
       "      <td>NaN</td>\n",
       "      <td>NaN</td>\n",
       "      <td>NaN</td>\n",
       "      <td>NaN</td>\n",
       "      <td>NaN</td>\n",
       "    </tr>\n",
       "    <tr>\n",
       "      <th>1</th>\n",
       "      <td>1</td>\n",
       "      <td>tt0232670</td>\n",
       "      <td>The Soldier's Return</td>\n",
       "      <td>GB</td>\n",
       "      <td>short</td>\n",
       "      <td>1903</td>\n",
       "      <td>Drama,Short</td>\n",
       "      <td>nm0932055</td>\n",
       "      <td>\\N</td>\n",
       "      <td>NaN</td>\n",
       "      <td>NaN</td>\n",
       "      <td>NaN</td>\n",
       "      <td>NaN</td>\n",
       "      <td>NaN</td>\n",
       "      <td>NaN</td>\n",
       "      <td>NaN</td>\n",
       "    </tr>\n",
       "  </tbody>\n",
       "</table>\n",
       "</div>"
      ],
      "text/plain": [
       "   Index    titleId                 title region titleType startYear  \\\n",
       "0      0  tt0000019      The Clown Barber     GB     short      1898   \n",
       "1      1  tt0232670  The Soldier's Return     GB     short      1903   \n",
       "\n",
       "         genres  directors writers  AveRating  numVotes primaryName_Director  \\\n",
       "0  Comedy,Short  nm0932055      \\N        5.3      19.0                  NaN   \n",
       "1   Drama,Short  nm0932055      \\N        NaN       NaN                  NaN   \n",
       "\n",
       "   birthYear_Director deathYear primaryProfession_director Dir_knownForTitles  \n",
       "0                 NaN       NaN                        NaN                NaN  \n",
       "1                 NaN       NaN                        NaN                NaN  "
      ]
     },
     "execution_count": 9,
     "metadata": {},
     "output_type": "execute_result"
    }
   ],
   "source": [
    "IMDB_data_NoDup = IMDB_data_NoDup.rename(columns={'averageRating_x': 'AveRating','numVotes_x': 'numVotes', 'Unnamed: 0': 'Index'})\n",
    "IMDB_data_NoDup.head(2)                       "
   ]
  },
  {
   "cell_type": "code",
   "execution_count": 10,
   "metadata": {},
   "outputs": [],
   "source": [
    "#IMDB_data_NoDup['startYear'].unique()"
   ]
  },
  {
   "cell_type": "markdown",
   "metadata": {},
   "source": [
    "### Reset Index"
   ]
  },
  {
   "cell_type": "code",
   "execution_count": 11,
   "metadata": {},
   "outputs": [
    {
     "data": {
      "text/html": [
       "<div>\n",
       "<style scoped>\n",
       "    .dataframe tbody tr th:only-of-type {\n",
       "        vertical-align: middle;\n",
       "    }\n",
       "\n",
       "    .dataframe tbody tr th {\n",
       "        vertical-align: top;\n",
       "    }\n",
       "\n",
       "    .dataframe thead th {\n",
       "        text-align: right;\n",
       "    }\n",
       "</style>\n",
       "<table border=\"1\" class=\"dataframe\">\n",
       "  <thead>\n",
       "    <tr style=\"text-align: right;\">\n",
       "      <th></th>\n",
       "      <th>titleId</th>\n",
       "      <th>title</th>\n",
       "      <th>region</th>\n",
       "      <th>titleType</th>\n",
       "      <th>startYear</th>\n",
       "      <th>genres</th>\n",
       "      <th>directors</th>\n",
       "      <th>writers</th>\n",
       "      <th>AveRating</th>\n",
       "      <th>numVotes</th>\n",
       "      <th>primaryName_Director</th>\n",
       "      <th>birthYear_Director</th>\n",
       "      <th>deathYear</th>\n",
       "      <th>primaryProfession_director</th>\n",
       "      <th>Dir_knownForTitles</th>\n",
       "    </tr>\n",
       "    <tr>\n",
       "      <th>Index</th>\n",
       "      <th></th>\n",
       "      <th></th>\n",
       "      <th></th>\n",
       "      <th></th>\n",
       "      <th></th>\n",
       "      <th></th>\n",
       "      <th></th>\n",
       "      <th></th>\n",
       "      <th></th>\n",
       "      <th></th>\n",
       "      <th></th>\n",
       "      <th></th>\n",
       "      <th></th>\n",
       "      <th></th>\n",
       "      <th></th>\n",
       "    </tr>\n",
       "  </thead>\n",
       "  <tbody>\n",
       "    <tr>\n",
       "      <th>0</th>\n",
       "      <td>tt0000019</td>\n",
       "      <td>The Clown Barber</td>\n",
       "      <td>GB</td>\n",
       "      <td>short</td>\n",
       "      <td>1898</td>\n",
       "      <td>Comedy,Short</td>\n",
       "      <td>nm0932055</td>\n",
       "      <td>\\N</td>\n",
       "      <td>5.3</td>\n",
       "      <td>19.0</td>\n",
       "      <td>NaN</td>\n",
       "      <td>NaN</td>\n",
       "      <td>NaN</td>\n",
       "      <td>NaN</td>\n",
       "      <td>NaN</td>\n",
       "    </tr>\n",
       "    <tr>\n",
       "      <th>1</th>\n",
       "      <td>tt0232670</td>\n",
       "      <td>The Soldier's Return</td>\n",
       "      <td>GB</td>\n",
       "      <td>short</td>\n",
       "      <td>1903</td>\n",
       "      <td>Drama,Short</td>\n",
       "      <td>nm0932055</td>\n",
       "      <td>\\N</td>\n",
       "      <td>NaN</td>\n",
       "      <td>NaN</td>\n",
       "      <td>NaN</td>\n",
       "      <td>NaN</td>\n",
       "      <td>NaN</td>\n",
       "      <td>NaN</td>\n",
       "      <td>NaN</td>\n",
       "    </tr>\n",
       "  </tbody>\n",
       "</table>\n",
       "</div>"
      ],
      "text/plain": [
       "         titleId                 title region titleType startYear  \\\n",
       "Index                                                               \n",
       "0      tt0000019      The Clown Barber     GB     short      1898   \n",
       "1      tt0232670  The Soldier's Return     GB     short      1903   \n",
       "\n",
       "             genres  directors writers  AveRating  numVotes  \\\n",
       "Index                                                         \n",
       "0      Comedy,Short  nm0932055      \\N        5.3      19.0   \n",
       "1       Drama,Short  nm0932055      \\N        NaN       NaN   \n",
       "\n",
       "      primaryName_Director  birthYear_Director deathYear  \\\n",
       "Index                                                      \n",
       "0                      NaN                 NaN       NaN   \n",
       "1                      NaN                 NaN       NaN   \n",
       "\n",
       "      primaryProfession_director Dir_knownForTitles  \n",
       "Index                                                \n",
       "0                            NaN                NaN  \n",
       "1                            NaN                NaN  "
      ]
     },
     "execution_count": 11,
     "metadata": {},
     "output_type": "execute_result"
    }
   ],
   "source": [
    "IMDB_data_NoDup =IMDB_data_NoDup.set_index('Index', drop=True, append=False, inplace=False, verify_integrity=False)\n",
    "IMDB_data_NoDup.head(2)"
   ]
  },
  {
   "cell_type": "code",
   "execution_count": 12,
   "metadata": {},
   "outputs": [
    {
     "data": {
      "text/plain": [
       "(14999145, 15)"
      ]
     },
     "execution_count": 12,
     "metadata": {},
     "output_type": "execute_result"
    }
   ],
   "source": [
    "IMDB_data_NoDup.shape"
   ]
  },
  {
   "cell_type": "code",
   "execution_count": 13,
   "metadata": {},
   "outputs": [],
   "source": [
    "#IMDB_data_NoDup['startYear'].unique()"
   ]
  },
  {
   "cell_type": "markdown",
   "metadata": {},
   "source": [
    "### Handling for null/missing values "
   ]
  },
  {
   "cell_type": "markdown",
   "metadata": {},
   "source": [
    "#### Checking columns with null values "
   ]
  },
  {
   "cell_type": "code",
   "execution_count": 14,
   "metadata": {},
   "outputs": [
    {
     "data": {
      "text/plain": [
       "Index(['titleId', 'title', 'region', 'titleType', 'startYear', 'genres',\n",
       "       'directors', 'writers', 'AveRating', 'numVotes', 'primaryName_Director',\n",
       "       'birthYear_Director', 'deathYear', 'primaryProfession_director',\n",
       "       'Dir_knownForTitles'],\n",
       "      dtype='object')"
      ]
     },
     "execution_count": 14,
     "metadata": {},
     "output_type": "execute_result"
    }
   ],
   "source": [
    "IMDB_data_NoDup.columns[IMDB_data_NoDup.isnull().any()]"
   ]
  },
  {
   "cell_type": "markdown",
   "metadata": {},
   "source": [
    "#### Printing sum of the null values "
   ]
  },
  {
   "cell_type": "code",
   "execution_count": 15,
   "metadata": {},
   "outputs": [],
   "source": [
    "for column in IMDB_data_NoDup:                                                             \n",
    "    IMDB_data_missing = IMDB_data_NoDup[column].isnull().sum()\n",
    "    #print(IMDB_data_missing)\n",
    "    #print(column, IMDB_data_NoDup[column].isnull().sum())"
   ]
  },
  {
   "cell_type": "code",
   "execution_count": 16,
   "metadata": {},
   "outputs": [
    {
     "data": {
      "text/plain": [
       "array(['1898', '1903', '1905', '1909', '1901', '1907', '1908', '1910',\n",
       "       '1906', '1899', '1904', '1900', '1902', '1897', nan, '1895',\n",
       "       '1896', '1894', '1911', '1912', '1915', '1914', '1913', '1916',\n",
       "       '1917', '1918', '1919', '1920', '1921', '1922', '1923', '1924',\n",
       "       '1925', '1926', '1927', '1928', '1929', '1930', '1934', '1931',\n",
       "       '1932', '1937', '1933', '1936', '1935', '1939', '1938', '1940',\n",
       "       '1941', '1942', '1943', '1944', '1945', '1946', '1948', '1947',\n",
       "       '1949', '1950', '1951', '1952', '1953', '1954', '1955', '1961',\n",
       "       '1956', '1957', '1958', '1960', '1959', '1962', '1963', '1964',\n",
       "       '1965', '1966', '1968', '1967', '1969', '1970', '1971', '1972',\n",
       "       '1974', '1973', '1975', '1976', '1977', '1978', '1979', '1980',\n",
       "       '1981', '1989', '1982', '1983', '1984', '1985', '1986', '1987',\n",
       "       '1988', '\\\\N', '1990', '1991', '1992', '1994', '1993', '1995',\n",
       "       '1996', '1997', '1998', '2000', '1999', '2001', '2003', '2004',\n",
       "       '2002', '2005', '2014', '2011', '2007', '2015', '2012', '2010',\n",
       "       '2006', '2020', '2018', '2013', '2008', '2021', '2009', '2016',\n",
       "       '2022', '2019', '2017', '2023', '2027', '2024', '2025', 1896.0,\n",
       "       1898.0, 1903.0, 1897.0, 1900.0, 1908.0, 1902.0, 1899.0, 1907.0,\n",
       "       1910.0, 1909.0, 1906.0, 1904.0, 1905.0, 2019.0, 1901.0, 1894.0,\n",
       "       1895.0, 1913.0, 1914.0, 1916.0, 1917.0, 1912.0, 1911.0, 1915.0,\n",
       "       1918.0, 1920.0, 1922.0, 1923.0, 1925.0, 1952.0, 1921.0, 1919.0,\n",
       "       1924.0, 1927.0, 1936.0, 1937.0, 1926.0, 1931.0, 1928.0, 1932.0,\n",
       "       1933.0, 1934.0, 1935.0, 1930.0, 1929.0, 1938.0, 1939.0, 1941.0,\n",
       "       1940.0, 1942.0, 1943.0, 1944.0, 1948.0, 1945.0, 1946.0, 1956.0,\n",
       "       2011.0, 2017.0, 1955.0, 1950.0, 1951.0, 1947.0, 1953.0, 1954.0,\n",
       "       1957.0, 1959.0, 1960.0, 1958.0, 1968.0, 1961.0, 1962.0, 1964.0,\n",
       "       1965.0, 1967.0, 1963.0, 1969.0, 1970.0, 1972.0, 1966.0, '1892',\n",
       "       '1893', 2000, 1993, 2014, 2004, 2001, 1949, 2008, 1983, 1980, 1973,\n",
       "       1995, 1971, 1976, 1990, 1986, 1979, 1974, 1981, 2020, 1988, 1975,\n",
       "       1978, 1989, 1977, 1985, 2009, 1987, 2010, 2018, 1984, 1982, 1992,\n",
       "       1991, 1997, 1999, 2005, '1891', '1888', '1890', '1889', '2026',\n",
       "       '1887', '1878', '1874', '1883', '2028', '1881', 2012.0, 2003.0,\n",
       "       2013.0, 2015.0, 2016.0, 2007.0, '1885'], dtype=object)"
      ]
     },
     "execution_count": 16,
     "metadata": {},
     "output_type": "execute_result"
    }
   ],
   "source": [
    "IMDB_data_NoDup['startYear'].unique()"
   ]
  },
  {
   "cell_type": "markdown",
   "metadata": {},
   "source": [
    "#### Calculating the % of missing values "
   ]
  },
  {
   "cell_type": "code",
   "execution_count": 17,
   "metadata": {},
   "outputs": [
    {
     "data": {
      "text/plain": [
       "0.9999944663512487"
      ]
     },
     "execution_count": 17,
     "metadata": {},
     "output_type": "execute_result"
    }
   ],
   "source": [
    "percent_NA_cols = IMDB_data_missing / len(IMDB_data_NoDup)\n",
    "percent_NA_cols"
   ]
  },
  {
   "cell_type": "code",
   "execution_count": 18,
   "metadata": {},
   "outputs": [],
   "source": [
    "#IMDB_data_NoDup['startYear'].unique()"
   ]
  },
  {
   "cell_type": "code",
   "execution_count": 19,
   "metadata": {
    "scrolled": true
   },
   "outputs": [],
   "source": [
    "#IMDB_data_NoDup.dropna(thresh=np.int((100-percent_NA_cols)*(len(IMDB_data_NoDup.columns)/100)),inplace=True)\n",
    "#print(IMDB_data_NoDup.shape)\n",
    "#IMDB_data_NoDup.head(2)\n",
    "#for col in IMDB_data_NoDup.columns: \n",
    "   #if sum(IMDB_data_NoDup[col].isnull())/float(len(IMDB_data_NoDup)) > 0.8:\n",
    "       #del IMDB_data_NoDup[col] \n",
    "#IMDB_data_NoDup.head()"
   ]
  },
  {
   "cell_type": "code",
   "execution_count": 20,
   "metadata": {},
   "outputs": [],
   "source": [
    "#IMDB_data_NoDup['startYear'].unique()"
   ]
  },
  {
   "cell_type": "markdown",
   "metadata": {},
   "source": [
    "#### Rename unnammed index to index "
   ]
  },
  {
   "cell_type": "code",
   "execution_count": 21,
   "metadata": {},
   "outputs": [
    {
     "data": {
      "text/html": [
       "<div>\n",
       "<style scoped>\n",
       "    .dataframe tbody tr th:only-of-type {\n",
       "        vertical-align: middle;\n",
       "    }\n",
       "\n",
       "    .dataframe tbody tr th {\n",
       "        vertical-align: top;\n",
       "    }\n",
       "\n",
       "    .dataframe thead th {\n",
       "        text-align: right;\n",
       "    }\n",
       "</style>\n",
       "<table border=\"1\" class=\"dataframe\">\n",
       "  <thead>\n",
       "    <tr style=\"text-align: right;\">\n",
       "      <th></th>\n",
       "      <th>titleId</th>\n",
       "      <th>title</th>\n",
       "      <th>region</th>\n",
       "      <th>titleType</th>\n",
       "      <th>startYear</th>\n",
       "      <th>genres</th>\n",
       "      <th>directors</th>\n",
       "      <th>writers</th>\n",
       "      <th>AveRating</th>\n",
       "      <th>numVotes</th>\n",
       "      <th>primaryName_Director</th>\n",
       "      <th>birthYear_Director</th>\n",
       "      <th>deathYear</th>\n",
       "      <th>primaryProfession_director</th>\n",
       "      <th>Dir_knownForTitles</th>\n",
       "    </tr>\n",
       "    <tr>\n",
       "      <th>Index</th>\n",
       "      <th></th>\n",
       "      <th></th>\n",
       "      <th></th>\n",
       "      <th></th>\n",
       "      <th></th>\n",
       "      <th></th>\n",
       "      <th></th>\n",
       "      <th></th>\n",
       "      <th></th>\n",
       "      <th></th>\n",
       "      <th></th>\n",
       "      <th></th>\n",
       "      <th></th>\n",
       "      <th></th>\n",
       "      <th></th>\n",
       "    </tr>\n",
       "  </thead>\n",
       "  <tbody>\n",
       "    <tr>\n",
       "      <th>0</th>\n",
       "      <td>tt0000019</td>\n",
       "      <td>The Clown Barber</td>\n",
       "      <td>GB</td>\n",
       "      <td>short</td>\n",
       "      <td>1898</td>\n",
       "      <td>Comedy,Short</td>\n",
       "      <td>nm0932055</td>\n",
       "      <td>\\N</td>\n",
       "      <td>5.3</td>\n",
       "      <td>19.0</td>\n",
       "      <td>NaN</td>\n",
       "      <td>NaN</td>\n",
       "      <td>NaN</td>\n",
       "      <td>NaN</td>\n",
       "      <td>NaN</td>\n",
       "    </tr>\n",
       "    <tr>\n",
       "      <th>1</th>\n",
       "      <td>tt0232670</td>\n",
       "      <td>The Soldier's Return</td>\n",
       "      <td>GB</td>\n",
       "      <td>short</td>\n",
       "      <td>1903</td>\n",
       "      <td>Drama,Short</td>\n",
       "      <td>nm0932055</td>\n",
       "      <td>\\N</td>\n",
       "      <td>NaN</td>\n",
       "      <td>NaN</td>\n",
       "      <td>NaN</td>\n",
       "      <td>NaN</td>\n",
       "      <td>NaN</td>\n",
       "      <td>NaN</td>\n",
       "      <td>NaN</td>\n",
       "    </tr>\n",
       "  </tbody>\n",
       "</table>\n",
       "</div>"
      ],
      "text/plain": [
       "         titleId                 title region titleType startYear  \\\n",
       "Index                                                               \n",
       "0      tt0000019      The Clown Barber     GB     short      1898   \n",
       "1      tt0232670  The Soldier's Return     GB     short      1903   \n",
       "\n",
       "             genres  directors writers  AveRating  numVotes  \\\n",
       "Index                                                         \n",
       "0      Comedy,Short  nm0932055      \\N        5.3      19.0   \n",
       "1       Drama,Short  nm0932055      \\N        NaN       NaN   \n",
       "\n",
       "      primaryName_Director  birthYear_Director deathYear  \\\n",
       "Index                                                      \n",
       "0                      NaN                 NaN       NaN   \n",
       "1                      NaN                 NaN       NaN   \n",
       "\n",
       "      primaryProfession_director Dir_knownForTitles  \n",
       "Index                                                \n",
       "0                            NaN                NaN  \n",
       "1                            NaN                NaN  "
      ]
     },
     "execution_count": 21,
     "metadata": {},
     "output_type": "execute_result"
    }
   ],
   "source": [
    "IMDB_data_NoDup.index.names = ['Index']\n",
    "IMDB_data_NoDup.head(2)"
   ]
  },
  {
   "cell_type": "code",
   "execution_count": 22,
   "metadata": {},
   "outputs": [],
   "source": [
    "#IMDB_data_NoDup['startYear'].unique()"
   ]
  },
  {
   "cell_type": "markdown",
   "metadata": {},
   "source": [
    "#### Checking column's datatypes "
   ]
  },
  {
   "cell_type": "code",
   "execution_count": 23,
   "metadata": {
    "scrolled": false
   },
   "outputs": [
    {
     "data": {
      "text/plain": [
       "titleId                        object\n",
       "title                          object\n",
       "region                         object\n",
       "titleType                      object\n",
       "startYear                      object\n",
       "genres                         object\n",
       "directors                      object\n",
       "writers                        object\n",
       "AveRating                     float64\n",
       "numVotes                      float64\n",
       "primaryName_Director           object\n",
       "birthYear_Director            float64\n",
       "deathYear                      object\n",
       "primaryProfession_director     object\n",
       "Dir_knownForTitles             object\n",
       "dtype: object"
      ]
     },
     "execution_count": 23,
     "metadata": {},
     "output_type": "execute_result"
    }
   ],
   "source": [
    "IMDB_data_NoDup.dtypes                                                           "
   ]
  },
  {
   "cell_type": "markdown",
   "metadata": {},
   "source": [
    "#### Checking Unique values"
   ]
  },
  {
   "cell_type": "code",
   "execution_count": 24,
   "metadata": {},
   "outputs": [
    {
     "data": {
      "text/plain": [
       "titleId                       1960233\n",
       "title                         1574985\n",
       "region                            239\n",
       "titleType                          11\n",
       "startYear                         270\n",
       "genres                           2279\n",
       "directors                      798205\n",
       "writers                       1098223\n",
       "AveRating                          91\n",
       "numVotes                        18681\n",
       "primaryName_Director                5\n",
       "birthYear_Director                  5\n",
       "deathYear                           5\n",
       "primaryProfession_director          5\n",
       "Dir_knownForTitles                  5\n",
       "dtype: int64"
      ]
     },
     "execution_count": 24,
     "metadata": {},
     "output_type": "execute_result"
    }
   ],
   "source": [
    "IMDB_data_NoDup.nunique()                                                            "
   ]
  },
  {
   "cell_type": "markdown",
   "metadata": {},
   "source": [
    "#### Replacing missing values "
   ]
  },
  {
   "cell_type": "code",
   "execution_count": 25,
   "metadata": {},
   "outputs": [
    {
     "data": {
      "text/plain": [
       "(14999145, 15)"
      ]
     },
     "execution_count": 25,
     "metadata": {},
     "output_type": "execute_result"
    }
   ],
   "source": [
    "IMDB_data_NoDup.fillna(method='bfill', inplace=True)                                  \n",
    "IMDB_data_NoDup.shape"
   ]
  },
  {
   "cell_type": "markdown",
   "metadata": {},
   "source": [
    "#### Checking unique values by columns"
   ]
  },
  {
   "cell_type": "code",
   "execution_count": 26,
   "metadata": {},
   "outputs": [],
   "source": [
    "#IMDB_data_NoDup['title'].unique()"
   ]
  },
  {
   "cell_type": "code",
   "execution_count": 27,
   "metadata": {},
   "outputs": [
    {
     "data": {
      "text/plain": [
       "titleId                        object\n",
       "title                          object\n",
       "region                         object\n",
       "titleType                      object\n",
       "startYear                      object\n",
       "genres                         object\n",
       "directors                      object\n",
       "writers                        object\n",
       "AveRating                     float64\n",
       "numVotes                      float64\n",
       "primaryName_Director           object\n",
       "birthYear_Director            float64\n",
       "deathYear                      object\n",
       "primaryProfession_director     object\n",
       "Dir_knownForTitles             object\n",
       "dtype: object"
      ]
     },
     "execution_count": 27,
     "metadata": {},
     "output_type": "execute_result"
    }
   ],
   "source": [
    "IMDB_data_NoDup.dtypes"
   ]
  },
  {
   "cell_type": "code",
   "execution_count": 28,
   "metadata": {},
   "outputs": [],
   "source": [
    "#IMDB_data_NoDup['startYear'].unique()"
   ]
  },
  {
   "cell_type": "code",
   "execution_count": 29,
   "metadata": {},
   "outputs": [],
   "source": [
    "### Dropping Index column\n",
    "#IMDB_data_NoDup = IMDB_data_NoDup.drop(['Index'], axis = 1)  \n",
    "#IMDB_data_NoDup.head(2)    "
   ]
  },
  {
   "cell_type": "markdown",
   "metadata": {},
   "source": [
    "### Calculating age of the movies"
   ]
  },
  {
   "cell_type": "markdown",
   "metadata": {},
   "source": [
    "##### Converting startYear col from str to int"
   ]
  },
  {
   "cell_type": "code",
   "execution_count": 30,
   "metadata": {},
   "outputs": [],
   "source": [
    "IMDB_data_NoDup['startYear'] = pd.to_numeric(IMDB_data_NoDup['startYear'], errors='coerce')\n",
    "IMDB_data_NoDup['startYear'] = IMDB_data_NoDup['startYear'].convert_dtypes() "
   ]
  },
  {
   "cell_type": "markdown",
   "metadata": {},
   "source": [
    "##### Printing current year"
   ]
  },
  {
   "cell_type": "code",
   "execution_count": 31,
   "metadata": {},
   "outputs": [
    {
     "name": "stdout",
     "output_type": "stream",
     "text": [
      "2022\n"
     ]
    }
   ],
   "source": [
    "from datetime import datetime\n",
    "year = datetime.now().year\n",
    "print(year)"
   ]
  },
  {
   "cell_type": "markdown",
   "metadata": {},
   "source": [
    "##### Calculating movie age by substracting startYear from current year"
   ]
  },
  {
   "cell_type": "code",
   "execution_count": 32,
   "metadata": {},
   "outputs": [
    {
     "name": "stdout",
     "output_type": "stream",
     "text": [
      "         titleId                                   title region titleType  \\\n",
      "Index                                                                       \n",
      "0      tt0000019                        The Clown Barber     GB     short   \n",
      "1      tt0232670                    The Soldier's Return     GB     short   \n",
      "2      tt0271697                      Our New Errand Boy     GB     short   \n",
      "3      tt0273227                     The Forbidden Lover     GB     short   \n",
      "4      tt0274176  Two Naughty Boys Sprinkling the Spoons     GB     short   \n",
      "\n",
      "       startYear        genres  directors    writers  AveRating  numVotes  \\\n",
      "Index                                                                       \n",
      "0           1898  Comedy,Short  nm0932055         \\N        5.3      19.0   \n",
      "1           1903   Drama,Short  nm0932055         \\N        5.4      98.0   \n",
      "2           1905  Comedy,Short  nm0932055         \\N        5.4      98.0   \n",
      "3           1898  Comedy,Short  nm0932055  nm0932055        4.4       7.0   \n",
      "4           1898  Comedy,Short  nm0932055  nm0932055        4.4       7.0   \n",
      "\n",
      "      primaryName_Director  birthYear_Director deathYear  \\\n",
      "Index                                                      \n",
      "0           Ingmar Bergman              1918.0    2007.0   \n",
      "1           Ingmar Bergman              1918.0    2007.0   \n",
      "2           Ingmar Bergman              1918.0    2007.0   \n",
      "3           Ingmar Bergman              1918.0    2007.0   \n",
      "4           Ingmar Bergman              1918.0    2007.0   \n",
      "\n",
      "      primaryProfession_director                       Dir_knownForTitles  \\\n",
      "Index                                                                       \n",
      "0          writer,director,actor  tt0050976,tt0050986,tt0060827,tt0069467   \n",
      "1          writer,director,actor  tt0050976,tt0050986,tt0060827,tt0069467   \n",
      "2          writer,director,actor  tt0050976,tt0050986,tt0060827,tt0069467   \n",
      "3          writer,director,actor  tt0050976,tt0050986,tt0060827,tt0069467   \n",
      "4          writer,director,actor  tt0050976,tt0050986,tt0060827,tt0069467   \n",
      "\n",
      "       Age_of_movie  \n",
      "Index                \n",
      "0               124  \n",
      "1               119  \n",
      "2               117  \n",
      "3               124  \n",
      "4               124  \n"
     ]
    }
   ],
   "source": [
    "IMDB_data_NoDup['Age_of_movie'] = year - IMDB_data_NoDup['startYear'] \n",
    "print(IMDB_data_NoDup.head(5))"
   ]
  },
  {
   "cell_type": "markdown",
   "metadata": {},
   "source": [
    "#### Calculating age of the directors"
   ]
  },
  {
   "cell_type": "markdown",
   "metadata": {},
   "source": [
    "##### Converting birthYear_Director col type from str to int"
   ]
  },
  {
   "cell_type": "code",
   "execution_count": 33,
   "metadata": {},
   "outputs": [],
   "source": [
    "IMDB_data_NoDup['birthYear_Director'] = pd.to_numeric(IMDB_data_NoDup[\"birthYear_Director\"], errors='coerce')\n",
    "IMDB_data_NoDup['birthYear_Director'] = IMDB_data_NoDup[\"birthYear_Director\"].convert_dtypes() "
   ]
  },
  {
   "cell_type": "markdown",
   "metadata": {},
   "source": [
    "##### Converting deathYear col type from str to int"
   ]
  },
  {
   "cell_type": "code",
   "execution_count": 34,
   "metadata": {},
   "outputs": [],
   "source": [
    "IMDB_data_NoDup['deathYear'] = pd.to_numeric(IMDB_data_NoDup[\"deathYear\"], errors='coerce')\n",
    "IMDB_data_NoDup['deathYear'] = IMDB_data_NoDup[\"deathYear\" ].convert_dtypes() "
   ]
  },
  {
   "cell_type": "markdown",
   "metadata": {},
   "source": [
    "##### Calculating Director_age by substrating birthyear from deathYear"
   ]
  },
  {
   "cell_type": "code",
   "execution_count": 35,
   "metadata": {},
   "outputs": [
    {
     "data": {
      "text/html": [
       "<div>\n",
       "<style scoped>\n",
       "    .dataframe tbody tr th:only-of-type {\n",
       "        vertical-align: middle;\n",
       "    }\n",
       "\n",
       "    .dataframe tbody tr th {\n",
       "        vertical-align: top;\n",
       "    }\n",
       "\n",
       "    .dataframe thead th {\n",
       "        text-align: right;\n",
       "    }\n",
       "</style>\n",
       "<table border=\"1\" class=\"dataframe\">\n",
       "  <thead>\n",
       "    <tr style=\"text-align: right;\">\n",
       "      <th></th>\n",
       "      <th>titleId</th>\n",
       "      <th>title</th>\n",
       "      <th>region</th>\n",
       "      <th>titleType</th>\n",
       "      <th>startYear</th>\n",
       "      <th>genres</th>\n",
       "      <th>directors</th>\n",
       "      <th>writers</th>\n",
       "      <th>AveRating</th>\n",
       "      <th>numVotes</th>\n",
       "      <th>primaryName_Director</th>\n",
       "      <th>birthYear_Director</th>\n",
       "      <th>deathYear</th>\n",
       "      <th>primaryProfession_director</th>\n",
       "      <th>Dir_knownForTitles</th>\n",
       "      <th>Age_of_movie</th>\n",
       "      <th>Director_age</th>\n",
       "    </tr>\n",
       "    <tr>\n",
       "      <th>Index</th>\n",
       "      <th></th>\n",
       "      <th></th>\n",
       "      <th></th>\n",
       "      <th></th>\n",
       "      <th></th>\n",
       "      <th></th>\n",
       "      <th></th>\n",
       "      <th></th>\n",
       "      <th></th>\n",
       "      <th></th>\n",
       "      <th></th>\n",
       "      <th></th>\n",
       "      <th></th>\n",
       "      <th></th>\n",
       "      <th></th>\n",
       "      <th></th>\n",
       "      <th></th>\n",
       "    </tr>\n",
       "  </thead>\n",
       "  <tbody>\n",
       "    <tr>\n",
       "      <th>0</th>\n",
       "      <td>tt0000019</td>\n",
       "      <td>The Clown Barber</td>\n",
       "      <td>GB</td>\n",
       "      <td>short</td>\n",
       "      <td>1898</td>\n",
       "      <td>Comedy,Short</td>\n",
       "      <td>nm0932055</td>\n",
       "      <td>\\N</td>\n",
       "      <td>5.3</td>\n",
       "      <td>19.0</td>\n",
       "      <td>Ingmar Bergman</td>\n",
       "      <td>1918</td>\n",
       "      <td>2007</td>\n",
       "      <td>writer,director,actor</td>\n",
       "      <td>tt0050976,tt0050986,tt0060827,tt0069467</td>\n",
       "      <td>124</td>\n",
       "      <td>89</td>\n",
       "    </tr>\n",
       "    <tr>\n",
       "      <th>1</th>\n",
       "      <td>tt0232670</td>\n",
       "      <td>The Soldier's Return</td>\n",
       "      <td>GB</td>\n",
       "      <td>short</td>\n",
       "      <td>1903</td>\n",
       "      <td>Drama,Short</td>\n",
       "      <td>nm0932055</td>\n",
       "      <td>\\N</td>\n",
       "      <td>5.4</td>\n",
       "      <td>98.0</td>\n",
       "      <td>Ingmar Bergman</td>\n",
       "      <td>1918</td>\n",
       "      <td>2007</td>\n",
       "      <td>writer,director,actor</td>\n",
       "      <td>tt0050976,tt0050986,tt0060827,tt0069467</td>\n",
       "      <td>119</td>\n",
       "      <td>89</td>\n",
       "    </tr>\n",
       "  </tbody>\n",
       "</table>\n",
       "</div>"
      ],
      "text/plain": [
       "         titleId                 title region titleType  startYear  \\\n",
       "Index                                                                \n",
       "0      tt0000019      The Clown Barber     GB     short       1898   \n",
       "1      tt0232670  The Soldier's Return     GB     short       1903   \n",
       "\n",
       "             genres  directors writers  AveRating  numVotes  \\\n",
       "Index                                                         \n",
       "0      Comedy,Short  nm0932055      \\N        5.3      19.0   \n",
       "1       Drama,Short  nm0932055      \\N        5.4      98.0   \n",
       "\n",
       "      primaryName_Director  birthYear_Director  deathYear  \\\n",
       "Index                                                       \n",
       "0           Ingmar Bergman                1918       2007   \n",
       "1           Ingmar Bergman                1918       2007   \n",
       "\n",
       "      primaryProfession_director                       Dir_knownForTitles  \\\n",
       "Index                                                                       \n",
       "0          writer,director,actor  tt0050976,tt0050986,tt0060827,tt0069467   \n",
       "1          writer,director,actor  tt0050976,tt0050986,tt0060827,tt0069467   \n",
       "\n",
       "       Age_of_movie  Director_age  \n",
       "Index                              \n",
       "0               124            89  \n",
       "1               119            89  "
      ]
     },
     "execution_count": 35,
     "metadata": {},
     "output_type": "execute_result"
    }
   ],
   "source": [
    "IMDB_data_NoDup['Director_age'] = IMDB_data_NoDup['deathYear']  - IMDB_data_NoDup['birthYear_Director'] \n",
    "IMDB_data_NoDup.head(2)"
   ]
  },
  {
   "cell_type": "code",
   "execution_count": 36,
   "metadata": {},
   "outputs": [
    {
     "name": "stdout",
     "output_type": "stream",
     "text": [
      "<class 'pandas.core.frame.DataFrame'>\n",
      "Int64Index: 14999145 entries, 0 to 14999144\n",
      "Data columns (total 17 columns):\n",
      " #   Column                      Dtype  \n",
      "---  ------                      -----  \n",
      " 0   titleId                     object \n",
      " 1   title                       object \n",
      " 2   region                      object \n",
      " 3   titleType                   object \n",
      " 4   startYear                   Int64  \n",
      " 5   genres                      object \n",
      " 6   directors                   object \n",
      " 7   writers                     object \n",
      " 8   AveRating                   float64\n",
      " 9   numVotes                    float64\n",
      " 10  primaryName_Director        object \n",
      " 11  birthYear_Director          Int64  \n",
      " 12  deathYear                   Int64  \n",
      " 13  primaryProfession_director  object \n",
      " 14  Dir_knownForTitles          object \n",
      " 15  Age_of_movie                Int64  \n",
      " 16  Director_age                Int64  \n",
      "dtypes: Int64(5), float64(2), object(10)\n",
      "memory usage: 2.1+ GB\n"
     ]
    }
   ],
   "source": [
    "IMDB_data_NoDup.info()"
   ]
  },
  {
   "cell_type": "markdown",
   "metadata": {},
   "source": [
    "#### Checking NaN values "
   ]
  },
  {
   "cell_type": "code",
   "execution_count": 37,
   "metadata": {},
   "outputs": [
    {
     "data": {
      "text/plain": [
       "1852812"
      ]
     },
     "execution_count": 37,
     "metadata": {},
     "output_type": "execute_result"
    }
   ],
   "source": [
    "IMDB_data_NoDup['Age_of_movie'].isna().sum()"
   ]
  },
  {
   "cell_type": "markdown",
   "metadata": {},
   "source": [
    "##### Converting Age_of_movie to float type"
   ]
  },
  {
   "cell_type": "code",
   "execution_count": 38,
   "metadata": {},
   "outputs": [],
   "source": [
    "IMDB_data_NoDup['Age_of_movie'] = IMDB_data_NoDup['Age_of_movie'].astype('float')"
   ]
  },
  {
   "cell_type": "markdown",
   "metadata": {},
   "source": [
    "##### Replacing all NaN value with mean of the Age_of_movie column "
   ]
  },
  {
   "cell_type": "code",
   "execution_count": 39,
   "metadata": {},
   "outputs": [],
   "source": [
    "IMDB_data_NoDup['Age_of_movie'].fillna((IMDB_data_NoDup['Age_of_movie'].mean()), inplace=True)"
   ]
  },
  {
   "cell_type": "code",
   "execution_count": 40,
   "metadata": {},
   "outputs": [
    {
     "data": {
      "text/plain": [
       "126.000000    2931486\n",
       "51.259111     1852812\n",
       "92.000000     1377176\n",
       "3.000000       507609\n",
       "4.000000       453038\n",
       "               ...   \n",
       "144.000000          2\n",
       "148.000000          1\n",
       "139.000000          1\n",
       "141.000000          1\n",
       "137.000000          1\n",
       "Name: Age_of_movie, Length: 148, dtype: int64"
      ]
     },
     "execution_count": 40,
     "metadata": {},
     "output_type": "execute_result"
    }
   ],
   "source": [
    "IMDB_data_NoDup['Age_of_movie'].value_counts()"
   ]
  },
  {
   "cell_type": "markdown",
   "metadata": {},
   "source": [
    "#### Deriving the decade for the movies "
   ]
  },
  {
   "cell_type": "code",
   "execution_count": 41,
   "metadata": {},
   "outputs": [
    {
     "data": {
      "text/html": [
       "<div>\n",
       "<style scoped>\n",
       "    .dataframe tbody tr th:only-of-type {\n",
       "        vertical-align: middle;\n",
       "    }\n",
       "\n",
       "    .dataframe tbody tr th {\n",
       "        vertical-align: top;\n",
       "    }\n",
       "\n",
       "    .dataframe thead th {\n",
       "        text-align: right;\n",
       "    }\n",
       "</style>\n",
       "<table border=\"1\" class=\"dataframe\">\n",
       "  <thead>\n",
       "    <tr style=\"text-align: right;\">\n",
       "      <th></th>\n",
       "      <th>titleId</th>\n",
       "      <th>title</th>\n",
       "      <th>region</th>\n",
       "      <th>titleType</th>\n",
       "      <th>startYear</th>\n",
       "      <th>genres</th>\n",
       "      <th>directors</th>\n",
       "      <th>writers</th>\n",
       "      <th>AveRating</th>\n",
       "      <th>numVotes</th>\n",
       "      <th>primaryName_Director</th>\n",
       "      <th>birthYear_Director</th>\n",
       "      <th>deathYear</th>\n",
       "      <th>primaryProfession_director</th>\n",
       "      <th>Dir_knownForTitles</th>\n",
       "      <th>Age_of_movie</th>\n",
       "      <th>Director_age</th>\n",
       "      <th>Decade</th>\n",
       "    </tr>\n",
       "    <tr>\n",
       "      <th>Index</th>\n",
       "      <th></th>\n",
       "      <th></th>\n",
       "      <th></th>\n",
       "      <th></th>\n",
       "      <th></th>\n",
       "      <th></th>\n",
       "      <th></th>\n",
       "      <th></th>\n",
       "      <th></th>\n",
       "      <th></th>\n",
       "      <th></th>\n",
       "      <th></th>\n",
       "      <th></th>\n",
       "      <th></th>\n",
       "      <th></th>\n",
       "      <th></th>\n",
       "      <th></th>\n",
       "      <th></th>\n",
       "    </tr>\n",
       "  </thead>\n",
       "  <tbody>\n",
       "    <tr>\n",
       "      <th>0</th>\n",
       "      <td>tt0000019</td>\n",
       "      <td>The Clown Barber</td>\n",
       "      <td>GB</td>\n",
       "      <td>short</td>\n",
       "      <td>1898</td>\n",
       "      <td>Comedy,Short</td>\n",
       "      <td>nm0932055</td>\n",
       "      <td>\\N</td>\n",
       "      <td>5.3</td>\n",
       "      <td>19.0</td>\n",
       "      <td>Ingmar Bergman</td>\n",
       "      <td>1918</td>\n",
       "      <td>2007</td>\n",
       "      <td>writer,director,actor</td>\n",
       "      <td>tt0050976,tt0050986,tt0060827,tt0069467</td>\n",
       "      <td>124.0</td>\n",
       "      <td>89</td>\n",
       "      <td>D6</td>\n",
       "    </tr>\n",
       "    <tr>\n",
       "      <th>1</th>\n",
       "      <td>tt0232670</td>\n",
       "      <td>The Soldier's Return</td>\n",
       "      <td>GB</td>\n",
       "      <td>short</td>\n",
       "      <td>1903</td>\n",
       "      <td>Drama,Short</td>\n",
       "      <td>nm0932055</td>\n",
       "      <td>\\N</td>\n",
       "      <td>5.4</td>\n",
       "      <td>98.0</td>\n",
       "      <td>Ingmar Bergman</td>\n",
       "      <td>1918</td>\n",
       "      <td>2007</td>\n",
       "      <td>writer,director,actor</td>\n",
       "      <td>tt0050976,tt0050986,tt0060827,tt0069467</td>\n",
       "      <td>119.0</td>\n",
       "      <td>89</td>\n",
       "      <td>D6</td>\n",
       "    </tr>\n",
       "  </tbody>\n",
       "</table>\n",
       "</div>"
      ],
      "text/plain": [
       "         titleId                 title region titleType  startYear  \\\n",
       "Index                                                                \n",
       "0      tt0000019      The Clown Barber     GB     short       1898   \n",
       "1      tt0232670  The Soldier's Return     GB     short       1903   \n",
       "\n",
       "             genres  directors writers  AveRating  numVotes  \\\n",
       "Index                                                         \n",
       "0      Comedy,Short  nm0932055      \\N        5.3      19.0   \n",
       "1       Drama,Short  nm0932055      \\N        5.4      98.0   \n",
       "\n",
       "      primaryName_Director  birthYear_Director  deathYear  \\\n",
       "Index                                                       \n",
       "0           Ingmar Bergman                1918       2007   \n",
       "1           Ingmar Bergman                1918       2007   \n",
       "\n",
       "      primaryProfession_director                       Dir_knownForTitles  \\\n",
       "Index                                                                       \n",
       "0          writer,director,actor  tt0050976,tt0050986,tt0060827,tt0069467   \n",
       "1          writer,director,actor  tt0050976,tt0050986,tt0060827,tt0069467   \n",
       "\n",
       "       Age_of_movie  Director_age Decade  \n",
       "Index                                     \n",
       "0             124.0            89     D6  \n",
       "1             119.0            89     D6  "
      ]
     },
     "execution_count": 41,
     "metadata": {},
     "output_type": "execute_result"
    }
   ],
   "source": [
    "\n",
    "conditions = [\n",
    "    # (IMDB_data_NoDup['Age_of_movie'].ndim == 0),\n",
    "     (IMDB_data_NoDup['Age_of_movie'] <= 1),\n",
    "     (IMDB_data_NoDup['Age_of_movie'] > 1) & (IMDB_data_NoDup['Age_of_movie'] <= 10), \n",
    "     (IMDB_data_NoDup['Age_of_movie'] > 10) & (IMDB_data_NoDup[ 'Age_of_movie'] <= 25),\n",
    "     (IMDB_data_NoDup['Age_of_movie'] > 25) & (IMDB_data_NoDup['Age_of_movie'] <= 50),\n",
    "     (IMDB_data_NoDup['Age_of_movie'] > 50) & (IMDB_data_NoDup['Age_of_movie'] <= 75),\n",
    "     (IMDB_data_NoDup['Age_of_movie'] > 75) & (IMDB_data_NoDup['Age_of_movie'] <= 100),\n",
    "     (IMDB_data_NoDup['Age_of_movie'] > 100) & (IMDB_data_NoDup['Age_of_movie'] <= 125),\n",
    "     (IMDB_data_NoDup['Age_of_movie'] > 125) & (IMDB_data_NoDup['Age_of_movie']<= 150),\n",
    "     (IMDB_data_NoDup['Age_of_movie'] > 150)]\n",
    "\n",
    "# create a list of the values we want to assign for each condition\n",
    "values = ['D0','D1', 'D2', 'D3', 'D4', 'D5', 'D6', 'D7', 'D8']\n",
    "\n",
    "IMDB_data_NoDup['Decade']  = np.select(conditions, values) \n",
    "\n",
    "IMDB_data_NoDup.head(2)"
   ]
  },
  {
   "cell_type": "code",
   "execution_count": 42,
   "metadata": {},
   "outputs": [
    {
     "data": {
      "text/plain": [
       "D1    3716634\n",
       "D7    2936584\n",
       "D2    2788592\n",
       "D4    2423313\n",
       "D5    1489858\n",
       "D3    1384650\n",
       "D6     139304\n",
       "D0     120210\n",
       "Name: Decade, dtype: int64"
      ]
     },
     "execution_count": 42,
     "metadata": {},
     "output_type": "execute_result"
    }
   ],
   "source": [
    "IMDB_data_NoDup['Decade'].value_counts()"
   ]
  },
  {
   "cell_type": "code",
   "execution_count": 43,
   "metadata": {},
   "outputs": [
    {
     "name": "stdout",
     "output_type": "stream",
     "text": [
      "8622157\n"
     ]
    }
   ],
   "source": [
    "print(IMDB_data_NoDup.isnull().values.sum())"
   ]
  },
  {
   "cell_type": "code",
   "execution_count": 44,
   "metadata": {},
   "outputs": [
    {
     "name": "stdout",
     "output_type": "stream",
     "text": [
      "titleId                        966985\n",
      "title                          966985\n",
      "region                         966985\n",
      "titleType                      966985\n",
      "startYear                     1852812\n",
      "genres                         966985\n",
      "directors                           4\n",
      "writers                             4\n",
      "AveRating                      967205\n",
      "numVotes                       967205\n",
      "primaryName_Director                0\n",
      "birthYear_Director                  0\n",
      "deathYear                           1\n",
      "primaryProfession_director          0\n",
      "Dir_knownForTitles                  0\n",
      "Age_of_movie                        0\n",
      "Director_age                        1\n",
      "Decade                              0\n",
      "dtype: int64\n"
     ]
    }
   ],
   "source": [
    "print(IMDB_data_NoDup.isnull().sum())"
   ]
  },
  {
   "cell_type": "markdown",
   "metadata": {},
   "source": [
    "##### Selecting values by removing the duplicates and unique values based on title\", \"startYear\", \"primaryName_Director\", \"birthYear_Director\""
   ]
  },
  {
   "cell_type": "code",
   "execution_count": 45,
   "metadata": {},
   "outputs": [],
   "source": [
    "#DF_uniquevalue = IMDB_data_NoDup.value_counts([\"title\", \"startYear\", \"primaryName_Director\", \"birthYear_Director\" ]) \n",
    "#DF_uniquevalue  "
   ]
  },
  {
   "cell_type": "markdown",
   "metadata": {},
   "source": [
    "#### Dropping duplicated cols based on the unique values from each cols"
   ]
  },
  {
   "cell_type": "code",
   "execution_count": 46,
   "metadata": {},
   "outputs": [
    {
     "data": {
      "text/html": [
       "<div>\n",
       "<style scoped>\n",
       "    .dataframe tbody tr th:only-of-type {\n",
       "        vertical-align: middle;\n",
       "    }\n",
       "\n",
       "    .dataframe tbody tr th {\n",
       "        vertical-align: top;\n",
       "    }\n",
       "\n",
       "    .dataframe thead th {\n",
       "        text-align: right;\n",
       "    }\n",
       "</style>\n",
       "<table border=\"1\" class=\"dataframe\">\n",
       "  <thead>\n",
       "    <tr style=\"text-align: right;\">\n",
       "      <th></th>\n",
       "      <th>titleId</th>\n",
       "      <th>title</th>\n",
       "      <th>region</th>\n",
       "      <th>titleType</th>\n",
       "      <th>startYear</th>\n",
       "      <th>genres</th>\n",
       "      <th>directors</th>\n",
       "      <th>writers</th>\n",
       "      <th>AveRating</th>\n",
       "      <th>numVotes</th>\n",
       "      <th>primaryName_Director</th>\n",
       "      <th>birthYear_Director</th>\n",
       "      <th>deathYear</th>\n",
       "      <th>primaryProfession_director</th>\n",
       "      <th>Dir_knownForTitles</th>\n",
       "      <th>Age_of_movie</th>\n",
       "      <th>Director_age</th>\n",
       "      <th>Decade</th>\n",
       "    </tr>\n",
       "    <tr>\n",
       "      <th>Index</th>\n",
       "      <th></th>\n",
       "      <th></th>\n",
       "      <th></th>\n",
       "      <th></th>\n",
       "      <th></th>\n",
       "      <th></th>\n",
       "      <th></th>\n",
       "      <th></th>\n",
       "      <th></th>\n",
       "      <th></th>\n",
       "      <th></th>\n",
       "      <th></th>\n",
       "      <th></th>\n",
       "      <th></th>\n",
       "      <th></th>\n",
       "      <th></th>\n",
       "      <th></th>\n",
       "      <th></th>\n",
       "    </tr>\n",
       "  </thead>\n",
       "  <tbody>\n",
       "    <tr>\n",
       "      <th>0</th>\n",
       "      <td>tt0000019</td>\n",
       "      <td>The Clown Barber</td>\n",
       "      <td>GB</td>\n",
       "      <td>short</td>\n",
       "      <td>1898</td>\n",
       "      <td>Comedy,Short</td>\n",
       "      <td>nm0932055</td>\n",
       "      <td>\\N</td>\n",
       "      <td>5.3</td>\n",
       "      <td>19.0</td>\n",
       "      <td>Ingmar Bergman</td>\n",
       "      <td>1918</td>\n",
       "      <td>2007</td>\n",
       "      <td>writer,director,actor</td>\n",
       "      <td>tt0050976,tt0050986,tt0060827,tt0069467</td>\n",
       "      <td>124.0</td>\n",
       "      <td>89</td>\n",
       "      <td>D6</td>\n",
       "    </tr>\n",
       "    <tr>\n",
       "      <th>1</th>\n",
       "      <td>tt0232670</td>\n",
       "      <td>The Soldier's Return</td>\n",
       "      <td>GB</td>\n",
       "      <td>short</td>\n",
       "      <td>1903</td>\n",
       "      <td>Drama,Short</td>\n",
       "      <td>nm0932055</td>\n",
       "      <td>\\N</td>\n",
       "      <td>5.4</td>\n",
       "      <td>98.0</td>\n",
       "      <td>Ingmar Bergman</td>\n",
       "      <td>1918</td>\n",
       "      <td>2007</td>\n",
       "      <td>writer,director,actor</td>\n",
       "      <td>tt0050976,tt0050986,tt0060827,tt0069467</td>\n",
       "      <td>119.0</td>\n",
       "      <td>89</td>\n",
       "      <td>D6</td>\n",
       "    </tr>\n",
       "  </tbody>\n",
       "</table>\n",
       "</div>"
      ],
      "text/plain": [
       "         titleId                 title region titleType  startYear  \\\n",
       "Index                                                                \n",
       "0      tt0000019      The Clown Barber     GB     short       1898   \n",
       "1      tt0232670  The Soldier's Return     GB     short       1903   \n",
       "\n",
       "             genres  directors writers  AveRating  numVotes  \\\n",
       "Index                                                         \n",
       "0      Comedy,Short  nm0932055      \\N        5.3      19.0   \n",
       "1       Drama,Short  nm0932055      \\N        5.4      98.0   \n",
       "\n",
       "      primaryName_Director  birthYear_Director  deathYear  \\\n",
       "Index                                                       \n",
       "0           Ingmar Bergman                1918       2007   \n",
       "1           Ingmar Bergman                1918       2007   \n",
       "\n",
       "      primaryProfession_director                       Dir_knownForTitles  \\\n",
       "Index                                                                       \n",
       "0          writer,director,actor  tt0050976,tt0050986,tt0060827,tt0069467   \n",
       "1          writer,director,actor  tt0050976,tt0050986,tt0060827,tt0069467   \n",
       "\n",
       "       Age_of_movie  Director_age Decade  \n",
       "Index                                     \n",
       "0             124.0            89     D6  \n",
       "1             119.0            89     D6  "
      ]
     },
     "execution_count": 46,
     "metadata": {},
     "output_type": "execute_result"
    }
   ],
   "source": [
    "IMDB_data_NoDup = IMDB_data_NoDup.drop_duplicates(subset=[\"title\", \"startYear\", \"primaryName_Director\", \"birthYear_Director\"])\n",
    "IMDB_data_NoDup.head(2)"
   ]
  },
  {
   "cell_type": "markdown",
   "metadata": {},
   "source": [
    "#### Verifying duplicated cols "
   ]
  },
  {
   "cell_type": "code",
   "execution_count": 47,
   "metadata": {},
   "outputs": [],
   "source": [
    "Ver_dup = IMDB_data_NoDup[IMDB_data_NoDup['title'] == \"Pilot\"]\n",
    "#Ver_dup"
   ]
  },
  {
   "cell_type": "code",
   "execution_count": 48,
   "metadata": {},
   "outputs": [
    {
     "data": {
      "text/plain": [
       "1574985"
      ]
     },
     "execution_count": 48,
     "metadata": {},
     "output_type": "execute_result"
    }
   ],
   "source": [
    "IMDB_data_NoDup['title'].value_counts().count()"
   ]
  },
  {
   "cell_type": "code",
   "execution_count": 49,
   "metadata": {},
   "outputs": [
    {
     "name": "stdout",
     "output_type": "stream",
     "text": [
      "titleId                           4\n",
      "title                             4\n",
      "region                            4\n",
      "titleType                         4\n",
      "startYear                     91345\n",
      "genres                            4\n",
      "directors                         3\n",
      "writers                           3\n",
      "AveRating                        60\n",
      "numVotes                         60\n",
      "primaryName_Director              0\n",
      "birthYear_Director                0\n",
      "deathYear                         1\n",
      "primaryProfession_director        0\n",
      "Dir_knownForTitles                0\n",
      "Age_of_movie                      0\n",
      "Director_age                      1\n",
      "Decade                            0\n",
      "dtype: int64\n"
     ]
    }
   ],
   "source": [
    "print(IMDB_data_NoDup.isnull().sum())"
   ]
  },
  {
   "cell_type": "code",
   "execution_count": 50,
   "metadata": {},
   "outputs": [
    {
     "data": {
      "text/plain": [
       "titleId                       0.000212\n",
       "title                         0.000212\n",
       "region                        0.000212\n",
       "titleType                     0.000212\n",
       "startYear                     4.837927\n",
       "genres                        0.000212\n",
       "directors                     0.000159\n",
       "writers                       0.000159\n",
       "AveRating                     0.003178\n",
       "numVotes                      0.003178\n",
       "primaryName_Director          0.000000\n",
       "birthYear_Director            0.000000\n",
       "deathYear                     0.000053\n",
       "primaryProfession_director    0.000000\n",
       "Dir_knownForTitles            0.000000\n",
       "Age_of_movie                  0.000000\n",
       "Director_age                  0.000053\n",
       "Decade                        0.000000\n",
       "dtype: float64"
      ]
     },
     "execution_count": 50,
     "metadata": {},
     "output_type": "execute_result"
    }
   ],
   "source": [
    "IMDB_data_NoDup.isna().sum()/(len(IMDB_data_NoDup))*100"
   ]
  },
  {
   "cell_type": "code",
   "execution_count": 51,
   "metadata": {},
   "outputs": [
    {
     "data": {
      "text/html": [
       "<div>\n",
       "<style scoped>\n",
       "    .dataframe tbody tr th:only-of-type {\n",
       "        vertical-align: middle;\n",
       "    }\n",
       "\n",
       "    .dataframe tbody tr th {\n",
       "        vertical-align: top;\n",
       "    }\n",
       "\n",
       "    .dataframe thead th {\n",
       "        text-align: right;\n",
       "    }\n",
       "</style>\n",
       "<table border=\"1\" class=\"dataframe\">\n",
       "  <thead>\n",
       "    <tr style=\"text-align: right;\">\n",
       "      <th></th>\n",
       "      <th>titleId</th>\n",
       "      <th>title</th>\n",
       "      <th>region</th>\n",
       "      <th>titleType</th>\n",
       "      <th>startYear</th>\n",
       "      <th>genres</th>\n",
       "      <th>directors</th>\n",
       "      <th>writers</th>\n",
       "      <th>AveRating</th>\n",
       "      <th>numVotes</th>\n",
       "      <th>primaryName_Director</th>\n",
       "      <th>birthYear_Director</th>\n",
       "      <th>deathYear</th>\n",
       "      <th>primaryProfession_director</th>\n",
       "      <th>Dir_knownForTitles</th>\n",
       "      <th>Age_of_movie</th>\n",
       "      <th>Director_age</th>\n",
       "      <th>Decade</th>\n",
       "    </tr>\n",
       "    <tr>\n",
       "      <th>Index</th>\n",
       "      <th></th>\n",
       "      <th></th>\n",
       "      <th></th>\n",
       "      <th></th>\n",
       "      <th></th>\n",
       "      <th></th>\n",
       "      <th></th>\n",
       "      <th></th>\n",
       "      <th></th>\n",
       "      <th></th>\n",
       "      <th></th>\n",
       "      <th></th>\n",
       "      <th></th>\n",
       "      <th></th>\n",
       "      <th></th>\n",
       "      <th></th>\n",
       "      <th></th>\n",
       "      <th></th>\n",
       "    </tr>\n",
       "  </thead>\n",
       "  <tbody>\n",
       "    <tr>\n",
       "      <th>2235</th>\n",
       "      <td>tt0094640</td>\n",
       "      <td>Am Stammtisch - Ein Heimatfilm</td>\n",
       "      <td>AT</td>\n",
       "      <td>tvEpisode</td>\n",
       "      <td>&lt;NA&gt;</td>\n",
       "      <td>Documentary</td>\n",
       "      <td>\\N</td>\n",
       "      <td>\\N</td>\n",
       "      <td>5.6</td>\n",
       "      <td>10.0</td>\n",
       "      <td>Ingmar Bergman</td>\n",
       "      <td>1918</td>\n",
       "      <td>2007</td>\n",
       "      <td>writer,director,actor</td>\n",
       "      <td>tt0050976,tt0050986,tt0060827,tt0069467</td>\n",
       "      <td>51.259111</td>\n",
       "      <td>89</td>\n",
       "      <td>D4</td>\n",
       "    </tr>\n",
       "    <tr>\n",
       "      <th>2278</th>\n",
       "      <td>tt0098828</td>\n",
       "      <td>Idol Angel Yohkoso Yohko</td>\n",
       "      <td>JP</td>\n",
       "      <td>tvSeries</td>\n",
       "      <td>&lt;NA&gt;</td>\n",
       "      <td>Animation,Comedy</td>\n",
       "      <td>\\N</td>\n",
       "      <td>\\N</td>\n",
       "      <td>7.8</td>\n",
       "      <td>5.0</td>\n",
       "      <td>Ingmar Bergman</td>\n",
       "      <td>1918</td>\n",
       "      <td>2007</td>\n",
       "      <td>writer,director,actor</td>\n",
       "      <td>tt0050976,tt0050986,tt0060827,tt0069467</td>\n",
       "      <td>51.259111</td>\n",
       "      <td>89</td>\n",
       "      <td>D4</td>\n",
       "    </tr>\n",
       "    <tr>\n",
       "      <th>2699</th>\n",
       "      <td>tt0120892</td>\n",
       "      <td>Winding Stair</td>\n",
       "      <td>US</td>\n",
       "      <td>movie</td>\n",
       "      <td>&lt;NA&gt;</td>\n",
       "      <td>Thriller</td>\n",
       "      <td>\\N</td>\n",
       "      <td>nm0427973</td>\n",
       "      <td>7.6</td>\n",
       "      <td>8.0</td>\n",
       "      <td>Ingmar Bergman</td>\n",
       "      <td>1918</td>\n",
       "      <td>2007</td>\n",
       "      <td>writer,director,actor</td>\n",
       "      <td>tt0050976,tt0050986,tt0060827,tt0069467</td>\n",
       "      <td>51.259111</td>\n",
       "      <td>89</td>\n",
       "      <td>D4</td>\n",
       "    </tr>\n",
       "    <tr>\n",
       "      <th>2700</th>\n",
       "      <td>tt0120922</td>\n",
       "      <td>Artes e Ofícios</td>\n",
       "      <td>PT</td>\n",
       "      <td>tvSeries</td>\n",
       "      <td>&lt;NA&gt;</td>\n",
       "      <td>\\N</td>\n",
       "      <td>\\N</td>\n",
       "      <td>\\N</td>\n",
       "      <td>7.6</td>\n",
       "      <td>8.0</td>\n",
       "      <td>Ingmar Bergman</td>\n",
       "      <td>1918</td>\n",
       "      <td>2007</td>\n",
       "      <td>writer,director,actor</td>\n",
       "      <td>tt0050976,tt0050986,tt0060827,tt0069467</td>\n",
       "      <td>51.259111</td>\n",
       "      <td>89</td>\n",
       "      <td>D4</td>\n",
       "    </tr>\n",
       "    <tr>\n",
       "      <th>2706</th>\n",
       "      <td>tt0120987</td>\n",
       "      <td>Megavision</td>\n",
       "      <td>GB</td>\n",
       "      <td>tvSeries</td>\n",
       "      <td>&lt;NA&gt;</td>\n",
       "      <td>Comedy</td>\n",
       "      <td>\\N</td>\n",
       "      <td>\\N</td>\n",
       "      <td>8.1</td>\n",
       "      <td>15.0</td>\n",
       "      <td>Ingmar Bergman</td>\n",
       "      <td>1918</td>\n",
       "      <td>2007</td>\n",
       "      <td>writer,director,actor</td>\n",
       "      <td>tt0050976,tt0050986,tt0060827,tt0069467</td>\n",
       "      <td>51.259111</td>\n",
       "      <td>89</td>\n",
       "      <td>D4</td>\n",
       "    </tr>\n",
       "  </tbody>\n",
       "</table>\n",
       "</div>"
      ],
      "text/plain": [
       "         titleId                           title region  titleType  startYear  \\\n",
       "Index                                                                           \n",
       "2235   tt0094640  Am Stammtisch - Ein Heimatfilm     AT  tvEpisode       <NA>   \n",
       "2278   tt0098828        Idol Angel Yohkoso Yohko     JP   tvSeries       <NA>   \n",
       "2699   tt0120892                   Winding Stair     US      movie       <NA>   \n",
       "2700   tt0120922                 Artes e Ofícios     PT   tvSeries       <NA>   \n",
       "2706   tt0120987                      Megavision     GB   tvSeries       <NA>   \n",
       "\n",
       "                 genres directors    writers  AveRating  numVotes  \\\n",
       "Index                                                               \n",
       "2235        Documentary        \\N         \\N        5.6      10.0   \n",
       "2278   Animation,Comedy        \\N         \\N        7.8       5.0   \n",
       "2699           Thriller        \\N  nm0427973        7.6       8.0   \n",
       "2700                 \\N        \\N         \\N        7.6       8.0   \n",
       "2706             Comedy        \\N         \\N        8.1      15.0   \n",
       "\n",
       "      primaryName_Director  birthYear_Director  deathYear  \\\n",
       "Index                                                       \n",
       "2235        Ingmar Bergman                1918       2007   \n",
       "2278        Ingmar Bergman                1918       2007   \n",
       "2699        Ingmar Bergman                1918       2007   \n",
       "2700        Ingmar Bergman                1918       2007   \n",
       "2706        Ingmar Bergman                1918       2007   \n",
       "\n",
       "      primaryProfession_director                       Dir_knownForTitles  \\\n",
       "Index                                                                       \n",
       "2235       writer,director,actor  tt0050976,tt0050986,tt0060827,tt0069467   \n",
       "2278       writer,director,actor  tt0050976,tt0050986,tt0060827,tt0069467   \n",
       "2699       writer,director,actor  tt0050976,tt0050986,tt0060827,tt0069467   \n",
       "2700       writer,director,actor  tt0050976,tt0050986,tt0060827,tt0069467   \n",
       "2706       writer,director,actor  tt0050976,tt0050986,tt0060827,tt0069467   \n",
       "\n",
       "       Age_of_movie  Director_age Decade  \n",
       "Index                                     \n",
       "2235      51.259111            89     D4  \n",
       "2278      51.259111            89     D4  \n",
       "2699      51.259111            89     D4  \n",
       "2700      51.259111            89     D4  \n",
       "2706      51.259111            89     D4  "
      ]
     },
     "execution_count": 51,
     "metadata": {},
     "output_type": "execute_result"
    }
   ],
   "source": [
    "IMDB_data_NoDup[IMDB_data_NoDup['startYear'].isnull()].head() "
   ]
  },
  {
   "cell_type": "markdown",
   "metadata": {},
   "source": [
    "####  Checking Null values in df"
   ]
  },
  {
   "cell_type": "code",
   "execution_count": 52,
   "metadata": {},
   "outputs": [
    {
     "data": {
      "text/html": [
       "<div>\n",
       "<style scoped>\n",
       "    .dataframe tbody tr th:only-of-type {\n",
       "        vertical-align: middle;\n",
       "    }\n",
       "\n",
       "    .dataframe tbody tr th {\n",
       "        vertical-align: top;\n",
       "    }\n",
       "\n",
       "    .dataframe thead th {\n",
       "        text-align: right;\n",
       "    }\n",
       "</style>\n",
       "<table border=\"1\" class=\"dataframe\">\n",
       "  <thead>\n",
       "    <tr style=\"text-align: right;\">\n",
       "      <th></th>\n",
       "      <th>titleId</th>\n",
       "      <th>title</th>\n",
       "      <th>region</th>\n",
       "      <th>titleType</th>\n",
       "      <th>startYear</th>\n",
       "      <th>genres</th>\n",
       "      <th>directors</th>\n",
       "      <th>writers</th>\n",
       "      <th>AveRating</th>\n",
       "      <th>numVotes</th>\n",
       "      <th>primaryName_Director</th>\n",
       "      <th>birthYear_Director</th>\n",
       "      <th>deathYear</th>\n",
       "      <th>primaryProfession_director</th>\n",
       "      <th>Dir_knownForTitles</th>\n",
       "      <th>Age_of_movie</th>\n",
       "      <th>Director_age</th>\n",
       "      <th>Decade</th>\n",
       "    </tr>\n",
       "    <tr>\n",
       "      <th>Index</th>\n",
       "      <th></th>\n",
       "      <th></th>\n",
       "      <th></th>\n",
       "      <th></th>\n",
       "      <th></th>\n",
       "      <th></th>\n",
       "      <th></th>\n",
       "      <th></th>\n",
       "      <th></th>\n",
       "      <th></th>\n",
       "      <th></th>\n",
       "      <th></th>\n",
       "      <th></th>\n",
       "      <th></th>\n",
       "      <th></th>\n",
       "      <th></th>\n",
       "      <th></th>\n",
       "      <th></th>\n",
       "    </tr>\n",
       "  </thead>\n",
       "  <tbody>\n",
       "    <tr>\n",
       "      <th>2235</th>\n",
       "      <td>tt0094640</td>\n",
       "      <td>Am Stammtisch - Ein Heimatfilm</td>\n",
       "      <td>AT</td>\n",
       "      <td>tvEpisode</td>\n",
       "      <td>&lt;NA&gt;</td>\n",
       "      <td>Documentary</td>\n",
       "      <td>\\N</td>\n",
       "      <td>\\N</td>\n",
       "      <td>5.6</td>\n",
       "      <td>10.0</td>\n",
       "      <td>Ingmar Bergman</td>\n",
       "      <td>1918</td>\n",
       "      <td>2007</td>\n",
       "      <td>writer,director,actor</td>\n",
       "      <td>tt0050976,tt0050986,tt0060827,tt0069467</td>\n",
       "      <td>51.259111</td>\n",
       "      <td>89</td>\n",
       "      <td>D4</td>\n",
       "    </tr>\n",
       "    <tr>\n",
       "      <th>2278</th>\n",
       "      <td>tt0098828</td>\n",
       "      <td>Idol Angel Yohkoso Yohko</td>\n",
       "      <td>JP</td>\n",
       "      <td>tvSeries</td>\n",
       "      <td>&lt;NA&gt;</td>\n",
       "      <td>Animation,Comedy</td>\n",
       "      <td>\\N</td>\n",
       "      <td>\\N</td>\n",
       "      <td>7.8</td>\n",
       "      <td>5.0</td>\n",
       "      <td>Ingmar Bergman</td>\n",
       "      <td>1918</td>\n",
       "      <td>2007</td>\n",
       "      <td>writer,director,actor</td>\n",
       "      <td>tt0050976,tt0050986,tt0060827,tt0069467</td>\n",
       "      <td>51.259111</td>\n",
       "      <td>89</td>\n",
       "      <td>D4</td>\n",
       "    </tr>\n",
       "  </tbody>\n",
       "</table>\n",
       "</div>"
      ],
      "text/plain": [
       "         titleId                           title region  titleType  startYear  \\\n",
       "Index                                                                           \n",
       "2235   tt0094640  Am Stammtisch - Ein Heimatfilm     AT  tvEpisode       <NA>   \n",
       "2278   tt0098828        Idol Angel Yohkoso Yohko     JP   tvSeries       <NA>   \n",
       "\n",
       "                 genres directors writers  AveRating  numVotes  \\\n",
       "Index                                                            \n",
       "2235        Documentary        \\N      \\N        5.6      10.0   \n",
       "2278   Animation,Comedy        \\N      \\N        7.8       5.0   \n",
       "\n",
       "      primaryName_Director  birthYear_Director  deathYear  \\\n",
       "Index                                                       \n",
       "2235        Ingmar Bergman                1918       2007   \n",
       "2278        Ingmar Bergman                1918       2007   \n",
       "\n",
       "      primaryProfession_director                       Dir_knownForTitles  \\\n",
       "Index                                                                       \n",
       "2235       writer,director,actor  tt0050976,tt0050986,tt0060827,tt0069467   \n",
       "2278       writer,director,actor  tt0050976,tt0050986,tt0060827,tt0069467   \n",
       "\n",
       "       Age_of_movie  Director_age Decade  \n",
       "Index                                     \n",
       "2235      51.259111            89     D4  \n",
       "2278      51.259111            89     D4  "
      ]
     },
     "execution_count": 52,
     "metadata": {},
     "output_type": "execute_result"
    }
   ],
   "source": [
    "IMDB_data_NoDup[IMDB_data_NoDup.isnull().any(axis=1)].head(2)  "
   ]
  },
  {
   "cell_type": "markdown",
   "metadata": {},
   "source": [
    " #### Replacing startyear Null value with mean"
   ]
  },
  {
   "cell_type": "code",
   "execution_count": 53,
   "metadata": {},
   "outputs": [],
   "source": [
    "IMDB_data_NoDup['startYear'] = IMDB_data_NoDup['startYear'].astype('float')"
   ]
  },
  {
   "cell_type": "code",
   "execution_count": 54,
   "metadata": {},
   "outputs": [],
   "source": [
    "IMDB_data_NoDup['startYear'].fillna((IMDB_data_NoDup['startYear'].mean()), inplace=True)"
   ]
  },
  {
   "cell_type": "markdown",
   "metadata": {},
   "source": [
    "#### Verifying replacement"
   ]
  },
  {
   "cell_type": "code",
   "execution_count": 55,
   "metadata": {},
   "outputs": [
    {
     "data": {
      "text/html": [
       "<div>\n",
       "<style scoped>\n",
       "    .dataframe tbody tr th:only-of-type {\n",
       "        vertical-align: middle;\n",
       "    }\n",
       "\n",
       "    .dataframe tbody tr th {\n",
       "        vertical-align: top;\n",
       "    }\n",
       "\n",
       "    .dataframe thead th {\n",
       "        text-align: right;\n",
       "    }\n",
       "</style>\n",
       "<table border=\"1\" class=\"dataframe\">\n",
       "  <thead>\n",
       "    <tr style=\"text-align: right;\">\n",
       "      <th></th>\n",
       "      <th>titleId</th>\n",
       "      <th>title</th>\n",
       "      <th>region</th>\n",
       "      <th>titleType</th>\n",
       "      <th>startYear</th>\n",
       "      <th>genres</th>\n",
       "      <th>directors</th>\n",
       "      <th>writers</th>\n",
       "      <th>AveRating</th>\n",
       "      <th>numVotes</th>\n",
       "      <th>primaryName_Director</th>\n",
       "      <th>birthYear_Director</th>\n",
       "      <th>deathYear</th>\n",
       "      <th>primaryProfession_director</th>\n",
       "      <th>Dir_knownForTitles</th>\n",
       "      <th>Age_of_movie</th>\n",
       "      <th>Director_age</th>\n",
       "      <th>Decade</th>\n",
       "    </tr>\n",
       "    <tr>\n",
       "      <th>Index</th>\n",
       "      <th></th>\n",
       "      <th></th>\n",
       "      <th></th>\n",
       "      <th></th>\n",
       "      <th></th>\n",
       "      <th></th>\n",
       "      <th></th>\n",
       "      <th></th>\n",
       "      <th></th>\n",
       "      <th></th>\n",
       "      <th></th>\n",
       "      <th></th>\n",
       "      <th></th>\n",
       "      <th></th>\n",
       "      <th></th>\n",
       "      <th></th>\n",
       "      <th></th>\n",
       "      <th></th>\n",
       "    </tr>\n",
       "  </thead>\n",
       "  <tbody>\n",
       "    <tr>\n",
       "      <th>10602708</th>\n",
       "      <td>tt0149801</td>\n",
       "      <td>Barnyard WAAC</td>\n",
       "      <td>US</td>\n",
       "      <td>short</td>\n",
       "      <td>1999.022127</td>\n",
       "      <td>Animation,Short</td>\n",
       "      <td>nm0232705</td>\n",
       "      <td>nm0287888,nm0458783,nm0607334,nm0856056</td>\n",
       "      <td>5.9</td>\n",
       "      <td>9.0</td>\n",
       "      <td>Ingmar Bergman</td>\n",
       "      <td>1918</td>\n",
       "      <td>2007</td>\n",
       "      <td>writer,director,actor</td>\n",
       "      <td>tt0050976,tt0050986,tt0060827,tt0069467</td>\n",
       "      <td>51.259111</td>\n",
       "      <td>89</td>\n",
       "      <td>D4</td>\n",
       "    </tr>\n",
       "  </tbody>\n",
       "</table>\n",
       "</div>"
      ],
      "text/plain": [
       "            titleId          title region titleType    startYear  \\\n",
       "Index                                                              \n",
       "10602708  tt0149801  Barnyard WAAC     US     short  1999.022127   \n",
       "\n",
       "                   genres  directors                                  writers  \\\n",
       "Index                                                                           \n",
       "10602708  Animation,Short  nm0232705  nm0287888,nm0458783,nm0607334,nm0856056   \n",
       "\n",
       "          AveRating  numVotes primaryName_Director  birthYear_Director  \\\n",
       "Index                                                                    \n",
       "10602708        5.9       9.0       Ingmar Bergman                1918   \n",
       "\n",
       "          deathYear primaryProfession_director  \\\n",
       "Index                                            \n",
       "10602708       2007      writer,director,actor   \n",
       "\n",
       "                               Dir_knownForTitles  Age_of_movie  Director_age  \\\n",
       "Index                                                                           \n",
       "10602708  tt0050976,tt0050986,tt0060827,tt0069467     51.259111            89   \n",
       "\n",
       "         Decade  \n",
       "Index            \n",
       "10602708     D4  "
      ]
     },
     "execution_count": 55,
     "metadata": {},
     "output_type": "execute_result"
    }
   ],
   "source": [
    "IMDB_data_NoDup[IMDB_data_NoDup['title'] == \"The Wonderful World of Wilbur Pope\"]    \n",
    "IMDB_data_NoDup[IMDB_data_NoDup['title'] == \"Barnyard WAAC\"]"
   ]
  },
  {
   "cell_type": "markdown",
   "metadata": {},
   "source": [
    "#### Checking Null values in Column birthYear_Director"
   ]
  },
  {
   "cell_type": "code",
   "execution_count": 56,
   "metadata": {},
   "outputs": [
    {
     "data": {
      "text/html": [
       "<div>\n",
       "<style scoped>\n",
       "    .dataframe tbody tr th:only-of-type {\n",
       "        vertical-align: middle;\n",
       "    }\n",
       "\n",
       "    .dataframe tbody tr th {\n",
       "        vertical-align: top;\n",
       "    }\n",
       "\n",
       "    .dataframe thead th {\n",
       "        text-align: right;\n",
       "    }\n",
       "</style>\n",
       "<table border=\"1\" class=\"dataframe\">\n",
       "  <thead>\n",
       "    <tr style=\"text-align: right;\">\n",
       "      <th></th>\n",
       "      <th>titleId</th>\n",
       "      <th>title</th>\n",
       "      <th>region</th>\n",
       "      <th>titleType</th>\n",
       "      <th>startYear</th>\n",
       "      <th>genres</th>\n",
       "      <th>directors</th>\n",
       "      <th>writers</th>\n",
       "      <th>AveRating</th>\n",
       "      <th>numVotes</th>\n",
       "      <th>primaryName_Director</th>\n",
       "      <th>birthYear_Director</th>\n",
       "      <th>deathYear</th>\n",
       "      <th>primaryProfession_director</th>\n",
       "      <th>Dir_knownForTitles</th>\n",
       "      <th>Age_of_movie</th>\n",
       "      <th>Director_age</th>\n",
       "      <th>Decade</th>\n",
       "    </tr>\n",
       "    <tr>\n",
       "      <th>Index</th>\n",
       "      <th></th>\n",
       "      <th></th>\n",
       "      <th></th>\n",
       "      <th></th>\n",
       "      <th></th>\n",
       "      <th></th>\n",
       "      <th></th>\n",
       "      <th></th>\n",
       "      <th></th>\n",
       "      <th></th>\n",
       "      <th></th>\n",
       "      <th></th>\n",
       "      <th></th>\n",
       "      <th></th>\n",
       "      <th></th>\n",
       "      <th></th>\n",
       "      <th></th>\n",
       "      <th></th>\n",
       "    </tr>\n",
       "  </thead>\n",
       "  <tbody>\n",
       "  </tbody>\n",
       "</table>\n",
       "</div>"
      ],
      "text/plain": [
       "Empty DataFrame\n",
       "Columns: [titleId, title, region, titleType, startYear, genres, directors, writers, AveRating, numVotes, primaryName_Director, birthYear_Director, deathYear, primaryProfession_director, Dir_knownForTitles, Age_of_movie, Director_age, Decade]\n",
       "Index: []"
      ]
     },
     "execution_count": 56,
     "metadata": {},
     "output_type": "execute_result"
    }
   ],
   "source": [
    "IMDB_data_NoDup[IMDB_data_NoDup['birthYear_Director'].isnull()].head(2)  "
   ]
  },
  {
   "cell_type": "markdown",
   "metadata": {},
   "source": [
    "#### Replacing Null values with mean"
   ]
  },
  {
   "cell_type": "code",
   "execution_count": 57,
   "metadata": {},
   "outputs": [],
   "source": [
    "\n",
    "#IMDB_data_NoDup['startYear'].fillna((IMDB_data_NoDup['startYear'].mean()), inplace=True)\n",
    "\n",
    "IMDB_data_NoDup['birthYear_Director'] = IMDB_data_NoDup['birthYear_Director'].astype('float')\n",
    "IMDB_data_NoDup['deathYear'] = IMDB_data_NoDup['deathYear'].astype('float')\n",
    "IMDB_data_NoDup['Director_age'] = IMDB_data_NoDup['Director_age'].astype('float')\n",
    "\n",
    "\n",
    "\n",
    "IMDB_data_NoDup['birthYear_Director'].fillna((IMDB_data_NoDup['birthYear_Director'].mean()), inplace = True)\n",
    "IMDB_data_NoDup['deathYear'].fillna((IMDB_data_NoDup['deathYear'].mean()), inplace = True)\n",
    "IMDB_data_NoDup['Director_age'].fillna((IMDB_data_NoDup['Director_age'].mean()), inplace = True) "
   ]
  },
  {
   "cell_type": "markdown",
   "metadata": {},
   "source": [
    "#### Verifying fillna "
   ]
  },
  {
   "cell_type": "code",
   "execution_count": 58,
   "metadata": {},
   "outputs": [
    {
     "data": {
      "text/html": [
       "<div>\n",
       "<style scoped>\n",
       "    .dataframe tbody tr th:only-of-type {\n",
       "        vertical-align: middle;\n",
       "    }\n",
       "\n",
       "    .dataframe tbody tr th {\n",
       "        vertical-align: top;\n",
       "    }\n",
       "\n",
       "    .dataframe thead th {\n",
       "        text-align: right;\n",
       "    }\n",
       "</style>\n",
       "<table border=\"1\" class=\"dataframe\">\n",
       "  <thead>\n",
       "    <tr style=\"text-align: right;\">\n",
       "      <th></th>\n",
       "      <th>titleId</th>\n",
       "      <th>title</th>\n",
       "      <th>region</th>\n",
       "      <th>titleType</th>\n",
       "      <th>startYear</th>\n",
       "      <th>genres</th>\n",
       "      <th>directors</th>\n",
       "      <th>writers</th>\n",
       "      <th>AveRating</th>\n",
       "      <th>numVotes</th>\n",
       "      <th>primaryName_Director</th>\n",
       "      <th>birthYear_Director</th>\n",
       "      <th>deathYear</th>\n",
       "      <th>primaryProfession_director</th>\n",
       "      <th>Dir_knownForTitles</th>\n",
       "      <th>Age_of_movie</th>\n",
       "      <th>Director_age</th>\n",
       "      <th>Decade</th>\n",
       "    </tr>\n",
       "    <tr>\n",
       "      <th>Index</th>\n",
       "      <th></th>\n",
       "      <th></th>\n",
       "      <th></th>\n",
       "      <th></th>\n",
       "      <th></th>\n",
       "      <th></th>\n",
       "      <th></th>\n",
       "      <th></th>\n",
       "      <th></th>\n",
       "      <th></th>\n",
       "      <th></th>\n",
       "      <th></th>\n",
       "      <th></th>\n",
       "      <th></th>\n",
       "      <th></th>\n",
       "      <th></th>\n",
       "      <th></th>\n",
       "      <th></th>\n",
       "    </tr>\n",
       "  </thead>\n",
       "  <tbody>\n",
       "  </tbody>\n",
       "</table>\n",
       "</div>"
      ],
      "text/plain": [
       "Empty DataFrame\n",
       "Columns: [titleId, title, region, titleType, startYear, genres, directors, writers, AveRating, numVotes, primaryName_Director, birthYear_Director, deathYear, primaryProfession_director, Dir_knownForTitles, Age_of_movie, Director_age, Decade]\n",
       "Index: []"
      ]
     },
     "execution_count": 58,
     "metadata": {},
     "output_type": "execute_result"
    }
   ],
   "source": [
    "IMDB_data_NoDup[IMDB_data_NoDup['primaryName_Director'] == \"Francisco Pinto Moreira\"]"
   ]
  },
  {
   "cell_type": "markdown",
   "metadata": {},
   "source": [
    "#### Checking df for NaN values after replacement"
   ]
  },
  {
   "cell_type": "code",
   "execution_count": 59,
   "metadata": {},
   "outputs": [
    {
     "data": {
      "text/html": [
       "<div>\n",
       "<style scoped>\n",
       "    .dataframe tbody tr th:only-of-type {\n",
       "        vertical-align: middle;\n",
       "    }\n",
       "\n",
       "    .dataframe tbody tr th {\n",
       "        vertical-align: top;\n",
       "    }\n",
       "\n",
       "    .dataframe thead th {\n",
       "        text-align: right;\n",
       "    }\n",
       "</style>\n",
       "<table border=\"1\" class=\"dataframe\">\n",
       "  <thead>\n",
       "    <tr style=\"text-align: right;\">\n",
       "      <th></th>\n",
       "      <th>titleId</th>\n",
       "      <th>title</th>\n",
       "      <th>region</th>\n",
       "      <th>titleType</th>\n",
       "      <th>startYear</th>\n",
       "      <th>genres</th>\n",
       "      <th>directors</th>\n",
       "      <th>writers</th>\n",
       "      <th>AveRating</th>\n",
       "      <th>numVotes</th>\n",
       "      <th>primaryName_Director</th>\n",
       "      <th>birthYear_Director</th>\n",
       "      <th>deathYear</th>\n",
       "      <th>primaryProfession_director</th>\n",
       "      <th>Dir_knownForTitles</th>\n",
       "      <th>Age_of_movie</th>\n",
       "      <th>Director_age</th>\n",
       "      <th>Decade</th>\n",
       "    </tr>\n",
       "    <tr>\n",
       "      <th>Index</th>\n",
       "      <th></th>\n",
       "      <th></th>\n",
       "      <th></th>\n",
       "      <th></th>\n",
       "      <th></th>\n",
       "      <th></th>\n",
       "      <th></th>\n",
       "      <th></th>\n",
       "      <th></th>\n",
       "      <th></th>\n",
       "      <th></th>\n",
       "      <th></th>\n",
       "      <th></th>\n",
       "      <th></th>\n",
       "      <th></th>\n",
       "      <th></th>\n",
       "      <th></th>\n",
       "      <th></th>\n",
       "    </tr>\n",
       "  </thead>\n",
       "  <tbody>\n",
       "    <tr>\n",
       "      <th>14031940</th>\n",
       "      <td>tt9914406</td>\n",
       "      <td>Gucci Gucci Prada Prada</td>\n",
       "      <td>US</td>\n",
       "      <td>short</td>\n",
       "      <td>2017.0</td>\n",
       "      <td>Comedy,Drama,Short</td>\n",
       "      <td>nm10537233</td>\n",
       "      <td>nm10537233</td>\n",
       "      <td>NaN</td>\n",
       "      <td>NaN</td>\n",
       "      <td>Fred Astaire</td>\n",
       "      <td>1899.0</td>\n",
       "      <td>1987.0</td>\n",
       "      <td>soundtrack,actor,miscellaneous</td>\n",
       "      <td>tt0050419,tt0053137,tt0072308,tt0031983</td>\n",
       "      <td>5.0</td>\n",
       "      <td>88.0</td>\n",
       "      <td>D1</td>\n",
       "    </tr>\n",
       "    <tr>\n",
       "      <th>14031941</th>\n",
       "      <td>tt9914420</td>\n",
       "      <td>Coping Ugly</td>\n",
       "      <td>US</td>\n",
       "      <td>short</td>\n",
       "      <td>2018.0</td>\n",
       "      <td>Drama,Short</td>\n",
       "      <td>nm10535628</td>\n",
       "      <td>nm10535628</td>\n",
       "      <td>NaN</td>\n",
       "      <td>NaN</td>\n",
       "      <td>Fred Astaire</td>\n",
       "      <td>1899.0</td>\n",
       "      <td>1987.0</td>\n",
       "      <td>soundtrack,actor,miscellaneous</td>\n",
       "      <td>tt0050419,tt0053137,tt0072308,tt0031983</td>\n",
       "      <td>4.0</td>\n",
       "      <td>88.0</td>\n",
       "      <td>D1</td>\n",
       "    </tr>\n",
       "  </tbody>\n",
       "</table>\n",
       "</div>"
      ],
      "text/plain": [
       "            titleId                    title region titleType  startYear  \\\n",
       "Index                                                                      \n",
       "14031940  tt9914406  Gucci Gucci Prada Prada     US     short     2017.0   \n",
       "14031941  tt9914420              Coping Ugly     US     short     2018.0   \n",
       "\n",
       "                      genres   directors     writers  AveRating  numVotes  \\\n",
       "Index                                                                       \n",
       "14031940  Comedy,Drama,Short  nm10537233  nm10537233        NaN       NaN   \n",
       "14031941         Drama,Short  nm10535628  nm10535628        NaN       NaN   \n",
       "\n",
       "         primaryName_Director  birthYear_Director  deathYear  \\\n",
       "Index                                                          \n",
       "14031940         Fred Astaire              1899.0     1987.0   \n",
       "14031941         Fred Astaire              1899.0     1987.0   \n",
       "\n",
       "              primaryProfession_director  \\\n",
       "Index                                      \n",
       "14031940  soundtrack,actor,miscellaneous   \n",
       "14031941  soundtrack,actor,miscellaneous   \n",
       "\n",
       "                               Dir_knownForTitles  Age_of_movie  Director_age  \\\n",
       "Index                                                                           \n",
       "14031940  tt0050419,tt0053137,tt0072308,tt0031983           5.0          88.0   \n",
       "14031941  tt0050419,tt0053137,tt0072308,tt0031983           4.0          88.0   \n",
       "\n",
       "         Decade  \n",
       "Index            \n",
       "14031940     D1  \n",
       "14031941     D1  "
      ]
     },
     "execution_count": 59,
     "metadata": {},
     "output_type": "execute_result"
    }
   ],
   "source": [
    "IMDB_data_NoDup[IMDB_data_NoDup.isnull().any(axis=1)].head(2) "
   ]
  },
  {
   "cell_type": "markdown",
   "metadata": {},
   "source": [
    "#### Checking value after replacing all null values"
   ]
  },
  {
   "cell_type": "code",
   "execution_count": 60,
   "metadata": {},
   "outputs": [
    {
     "name": "stdout",
     "output_type": "stream",
     "text": [
      "<class 'pandas.core.frame.DataFrame'>\n",
      "Int64Index: 1888102 entries, 0 to 14999144\n",
      "Data columns (total 18 columns):\n",
      " #   Column                      Dtype  \n",
      "---  ------                      -----  \n",
      " 0   titleId                     object \n",
      " 1   title                       object \n",
      " 2   region                      object \n",
      " 3   titleType                   object \n",
      " 4   startYear                   float64\n",
      " 5   genres                      object \n",
      " 6   directors                   object \n",
      " 7   writers                     object \n",
      " 8   AveRating                   float64\n",
      " 9   numVotes                    float64\n",
      " 10  primaryName_Director        object \n",
      " 11  birthYear_Director          float64\n",
      " 12  deathYear                   float64\n",
      " 13  primaryProfession_director  object \n",
      " 14  Dir_knownForTitles          object \n",
      " 15  Age_of_movie                float64\n",
      " 16  Director_age                float64\n",
      " 17  Decade                      object \n",
      "dtypes: float64(7), object(11)\n",
      "memory usage: 273.7+ MB\n"
     ]
    }
   ],
   "source": [
    "IMDB_data_NoDup.info()  "
   ]
  },
  {
   "cell_type": "markdown",
   "metadata": {},
   "source": [
    "#### Value count for duplicates "
   ]
  },
  {
   "cell_type": "code",
   "execution_count": 61,
   "metadata": {},
   "outputs": [
    {
     "data": {
      "text/plain": [
       "The King                         150\n",
       "Pilot                             71\n",
       "Yukutoshi kurutoshi               60\n",
       "Homecoming                        59\n",
       "The Gift                          59\n",
       "                                ... \n",
       "Paste and Politics                 1\n",
       "Passing the Message                1\n",
       "Jarvis Cocker's TV Pop Rules!      1\n",
       "I Love Muppets                     1\n",
       "Pretty Pretty Black Girl           1\n",
       "Name: title, Length: 1574985, dtype: int64"
      ]
     },
     "execution_count": 61,
     "metadata": {},
     "output_type": "execute_result"
    }
   ],
   "source": [
    "IMDB_data_NoDup['title'].value_counts() "
   ]
  },
  {
   "cell_type": "markdown",
   "metadata": {},
   "source": [
    "#### Calculating Statistics (std, min, max, mean) of col rating "
   ]
  },
  {
   "cell_type": "code",
   "execution_count": 62,
   "metadata": {},
   "outputs": [
    {
     "name": "stdout",
     "output_type": "stream",
     "text": [
      "std_Of_AvRating: 1.4875244926763949 mean_mu of rating: 6.881020072645245\n",
      "min_Of_AvRating: 1.0 max_Of_AvRating: 1.0\n",
      "lowerbound: 3.9655256408782957 upperbound 9.796514504412194\n"
     ]
    }
   ],
   "source": [
    "std_Of_AvRating = np.std(IMDB_data_NoDup['AveRating'])\n",
    "mean_mu = np.mean(IMDB_data_NoDup['AveRating'])\n",
    "min_Rating = np.min(IMDB_data_NoDup['AveRating'])\n",
    "max_Rating = np.max(IMDB_data_NoDup['AveRating'])\n",
    "lowerbound, upperbound = stats.norm.interval(0.95, loc=mean_mu, scale= std_Of_AvRating)\n",
    "\n",
    "print('std_Of_AvRating:',std_Of_AvRating, 'mean_mu of rating:', mean_mu)\n",
    "print('min_Of_AvRating:',min_Rating, 'max_Of_AvRating:',min_Rating)\n",
    "print('lowerbound:', lowerbound, 'upperbound', upperbound)"
   ]
  },
  {
   "cell_type": "markdown",
   "metadata": {},
   "source": [
    "### Outliers Detection"
   ]
  },
  {
   "cell_type": "code",
   "execution_count": 63,
   "metadata": {},
   "outputs": [
    {
     "name": "stdout",
     "output_type": "stream",
     "text": [
      "startYear             18.0\n",
      "AveRating              1.9\n",
      "numVotes              22.0\n",
      "birthYear_Director     0.0\n",
      "deathYear              0.0\n",
      "Age_of_movie          25.0\n",
      "Director_age           0.0\n",
      "dtype: float64\n"
     ]
    }
   ],
   "source": [
    "Q1 = IMDB_data_NoDup.quantile(0.25)\n",
    "Q3 = IMDB_data_NoDup.quantile(0.75)\n",
    "IQR = Q3 - Q1\n",
    "print(IQR)"
   ]
  },
  {
   "cell_type": "markdown",
   "metadata": {},
   "source": [
    "### Outliers Removal \n",
    "##### https://www.pluralsight.com/guides/cleaning-up-data-from-outliers"
   ]
  },
  {
   "cell_type": "code",
   "execution_count": 64,
   "metadata": {},
   "outputs": [],
   "source": [
    "#IMDB_data_NoDup = IMDB_data_NoDup[~((IMDB_data_NoDup < (Q1 - 1.5 * IQR)) |(IMDB_data_NoDup > (Q3 + 1.5 * IQR))).any(axis=1)]\n",
    "#print(IMDB_data_NoDup.shape)"
   ]
  },
  {
   "cell_type": "code",
   "execution_count": 65,
   "metadata": {},
   "outputs": [],
   "source": [
    "IMDB_data_NoDup[['P_writer', 'P_director', 'P_actor']] = IMDB_data_NoDup['primaryProfession_director'].str.split(',', expand=True)"
   ]
  },
  {
   "cell_type": "code",
   "execution_count": 66,
   "metadata": {},
   "outputs": [],
   "source": [
    "IMDB_data_NoDup[['genere1', 'genere2', 'genere3']] = IMDB_data_NoDup['genres'].str.split(',', expand=True)"
   ]
  },
  {
   "cell_type": "code",
   "execution_count": 67,
   "metadata": {},
   "outputs": [
    {
     "data": {
      "text/plain": [
       "array([0, 'nm0932055', 'nm0996076,nm0932055', ..., 'nm10439323',\n",
       "       'nm10538612', 'nm10538639'], dtype=object)"
      ]
     },
     "execution_count": 67,
     "metadata": {},
     "output_type": "execute_result"
    }
   ],
   "source": [
    "IMDB_data_NoDup['writers'] = IMDB_data_NoDup['writers'].replace('\\\\N', 0)\n",
    "IMDB_data_NoDup['writers'] = IMDB_data_NoDup['writers'].fillna(0)\n",
    "IMDB_data_NoDup['writers'].unique()"
   ]
  },
  {
   "cell_type": "code",
   "execution_count": 68,
   "metadata": {},
   "outputs": [],
   "source": [
    "IMDB_data_NoDup = IMDB_data_NoDup.fillna(0)"
   ]
  },
  {
   "cell_type": "code",
   "execution_count": 91,
   "metadata": {},
   "outputs": [],
   "source": [
    "#IMDB_data_NoDup = IMDB_data_NoDup.reset_index(\"Index\")"
   ]
  },
  {
   "cell_type": "code",
   "execution_count": 69,
   "metadata": {},
   "outputs": [
    {
     "data": {
      "text/html": [
       "<div>\n",
       "<style scoped>\n",
       "    .dataframe tbody tr th:only-of-type {\n",
       "        vertical-align: middle;\n",
       "    }\n",
       "\n",
       "    .dataframe tbody tr th {\n",
       "        vertical-align: top;\n",
       "    }\n",
       "\n",
       "    .dataframe thead th {\n",
       "        text-align: right;\n",
       "    }\n",
       "</style>\n",
       "<table border=\"1\" class=\"dataframe\">\n",
       "  <thead>\n",
       "    <tr style=\"text-align: right;\">\n",
       "      <th></th>\n",
       "      <th>titleId</th>\n",
       "      <th>title</th>\n",
       "      <th>region</th>\n",
       "      <th>titleType</th>\n",
       "      <th>startYear</th>\n",
       "      <th>genres</th>\n",
       "      <th>directors</th>\n",
       "      <th>writers</th>\n",
       "      <th>AveRating</th>\n",
       "      <th>numVotes</th>\n",
       "      <th>...</th>\n",
       "      <th>Dir_knownForTitles</th>\n",
       "      <th>Age_of_movie</th>\n",
       "      <th>Director_age</th>\n",
       "      <th>Decade</th>\n",
       "      <th>P_writer</th>\n",
       "      <th>P_director</th>\n",
       "      <th>P_actor</th>\n",
       "      <th>genere1</th>\n",
       "      <th>genere2</th>\n",
       "      <th>genere3</th>\n",
       "    </tr>\n",
       "    <tr>\n",
       "      <th>Index</th>\n",
       "      <th></th>\n",
       "      <th></th>\n",
       "      <th></th>\n",
       "      <th></th>\n",
       "      <th></th>\n",
       "      <th></th>\n",
       "      <th></th>\n",
       "      <th></th>\n",
       "      <th></th>\n",
       "      <th></th>\n",
       "      <th></th>\n",
       "      <th></th>\n",
       "      <th></th>\n",
       "      <th></th>\n",
       "      <th></th>\n",
       "      <th></th>\n",
       "      <th></th>\n",
       "      <th></th>\n",
       "      <th></th>\n",
       "      <th></th>\n",
       "      <th></th>\n",
       "    </tr>\n",
       "  </thead>\n",
       "  <tbody>\n",
       "    <tr>\n",
       "      <th>0</th>\n",
       "      <td>tt0000019</td>\n",
       "      <td>The Clown Barber</td>\n",
       "      <td>GB</td>\n",
       "      <td>short</td>\n",
       "      <td>1898.0</td>\n",
       "      <td>Comedy,Short</td>\n",
       "      <td>nm0932055</td>\n",
       "      <td>0</td>\n",
       "      <td>5.3</td>\n",
       "      <td>19.0</td>\n",
       "      <td>...</td>\n",
       "      <td>tt0050976,tt0050986,tt0060827,tt0069467</td>\n",
       "      <td>124.0</td>\n",
       "      <td>89.0</td>\n",
       "      <td>D6</td>\n",
       "      <td>writer</td>\n",
       "      <td>director</td>\n",
       "      <td>actor</td>\n",
       "      <td>Comedy</td>\n",
       "      <td>Short</td>\n",
       "      <td>0</td>\n",
       "    </tr>\n",
       "    <tr>\n",
       "      <th>1</th>\n",
       "      <td>tt0232670</td>\n",
       "      <td>The Soldier's Return</td>\n",
       "      <td>GB</td>\n",
       "      <td>short</td>\n",
       "      <td>1903.0</td>\n",
       "      <td>Drama,Short</td>\n",
       "      <td>nm0932055</td>\n",
       "      <td>0</td>\n",
       "      <td>5.4</td>\n",
       "      <td>98.0</td>\n",
       "      <td>...</td>\n",
       "      <td>tt0050976,tt0050986,tt0060827,tt0069467</td>\n",
       "      <td>119.0</td>\n",
       "      <td>89.0</td>\n",
       "      <td>D6</td>\n",
       "      <td>writer</td>\n",
       "      <td>director</td>\n",
       "      <td>actor</td>\n",
       "      <td>Drama</td>\n",
       "      <td>Short</td>\n",
       "      <td>0</td>\n",
       "    </tr>\n",
       "  </tbody>\n",
       "</table>\n",
       "<p>2 rows × 24 columns</p>\n",
       "</div>"
      ],
      "text/plain": [
       "         titleId                 title region titleType  startYear  \\\n",
       "Index                                                                \n",
       "0      tt0000019      The Clown Barber     GB     short     1898.0   \n",
       "1      tt0232670  The Soldier's Return     GB     short     1903.0   \n",
       "\n",
       "             genres  directors writers  AveRating  numVotes  ...  \\\n",
       "Index                                                        ...   \n",
       "0      Comedy,Short  nm0932055       0        5.3      19.0  ...   \n",
       "1       Drama,Short  nm0932055       0        5.4      98.0  ...   \n",
       "\n",
       "                            Dir_knownForTitles  Age_of_movie  Director_age  \\\n",
       "Index                                                                        \n",
       "0      tt0050976,tt0050986,tt0060827,tt0069467         124.0          89.0   \n",
       "1      tt0050976,tt0050986,tt0060827,tt0069467         119.0          89.0   \n",
       "\n",
       "      Decade P_writer  P_director  P_actor genere1 genere2 genere3  \n",
       "Index                                                               \n",
       "0         D6   writer    director    actor  Comedy   Short       0  \n",
       "1         D6   writer    director    actor   Drama   Short       0  \n",
       "\n",
       "[2 rows x 24 columns]"
      ]
     },
     "execution_count": 69,
     "metadata": {},
     "output_type": "execute_result"
    }
   ],
   "source": [
    "IMDB_data_NoDup.head(2)"
   ]
  },
  {
   "cell_type": "code",
   "execution_count": 77,
   "metadata": {},
   "outputs": [],
   "source": [
    "#IMDB_data_NoDup =  IMDB_data_NoDup.drop(IMDB_data_NoDup.columns[0], axis=1)"
   ]
  },
  {
   "cell_type": "code",
   "execution_count": 70,
   "metadata": {},
   "outputs": [
    {
     "data": {
      "text/html": [
       "<div>\n",
       "<style scoped>\n",
       "    .dataframe tbody tr th:only-of-type {\n",
       "        vertical-align: middle;\n",
       "    }\n",
       "\n",
       "    .dataframe tbody tr th {\n",
       "        vertical-align: top;\n",
       "    }\n",
       "\n",
       "    .dataframe thead th {\n",
       "        text-align: right;\n",
       "    }\n",
       "</style>\n",
       "<table border=\"1\" class=\"dataframe\">\n",
       "  <thead>\n",
       "    <tr style=\"text-align: right;\">\n",
       "      <th></th>\n",
       "      <th>titleId</th>\n",
       "      <th>title</th>\n",
       "      <th>region</th>\n",
       "      <th>titleType</th>\n",
       "      <th>startYear</th>\n",
       "      <th>genres</th>\n",
       "      <th>directors</th>\n",
       "      <th>writers</th>\n",
       "      <th>AveRating</th>\n",
       "      <th>numVotes</th>\n",
       "      <th>...</th>\n",
       "      <th>Dir_knownForTitles</th>\n",
       "      <th>Age_of_movie</th>\n",
       "      <th>Director_age</th>\n",
       "      <th>Decade</th>\n",
       "      <th>P_writer</th>\n",
       "      <th>P_director</th>\n",
       "      <th>P_actor</th>\n",
       "      <th>genere1</th>\n",
       "      <th>genere2</th>\n",
       "      <th>genere3</th>\n",
       "    </tr>\n",
       "    <tr>\n",
       "      <th>Index</th>\n",
       "      <th></th>\n",
       "      <th></th>\n",
       "      <th></th>\n",
       "      <th></th>\n",
       "      <th></th>\n",
       "      <th></th>\n",
       "      <th></th>\n",
       "      <th></th>\n",
       "      <th></th>\n",
       "      <th></th>\n",
       "      <th></th>\n",
       "      <th></th>\n",
       "      <th></th>\n",
       "      <th></th>\n",
       "      <th></th>\n",
       "      <th></th>\n",
       "      <th></th>\n",
       "      <th></th>\n",
       "      <th></th>\n",
       "      <th></th>\n",
       "      <th></th>\n",
       "    </tr>\n",
       "  </thead>\n",
       "  <tbody>\n",
       "    <tr>\n",
       "      <th>0</th>\n",
       "      <td>tt0000019</td>\n",
       "      <td>The Clown Barber</td>\n",
       "      <td>GB</td>\n",
       "      <td>short</td>\n",
       "      <td>1898.0</td>\n",
       "      <td>Comedy,Short</td>\n",
       "      <td>nm0932055</td>\n",
       "      <td>0</td>\n",
       "      <td>5.3</td>\n",
       "      <td>19.0</td>\n",
       "      <td>...</td>\n",
       "      <td>tt0050976,tt0050986,tt0060827,tt0069467</td>\n",
       "      <td>124.0</td>\n",
       "      <td>89.0</td>\n",
       "      <td>D6</td>\n",
       "      <td>writer</td>\n",
       "      <td>director</td>\n",
       "      <td>actor</td>\n",
       "      <td>Comedy</td>\n",
       "      <td>Short</td>\n",
       "      <td>0</td>\n",
       "    </tr>\n",
       "    <tr>\n",
       "      <th>1</th>\n",
       "      <td>tt0232670</td>\n",
       "      <td>The Soldier's Return</td>\n",
       "      <td>GB</td>\n",
       "      <td>short</td>\n",
       "      <td>1903.0</td>\n",
       "      <td>Drama,Short</td>\n",
       "      <td>nm0932055</td>\n",
       "      <td>0</td>\n",
       "      <td>5.4</td>\n",
       "      <td>98.0</td>\n",
       "      <td>...</td>\n",
       "      <td>tt0050976,tt0050986,tt0060827,tt0069467</td>\n",
       "      <td>119.0</td>\n",
       "      <td>89.0</td>\n",
       "      <td>D6</td>\n",
       "      <td>writer</td>\n",
       "      <td>director</td>\n",
       "      <td>actor</td>\n",
       "      <td>Drama</td>\n",
       "      <td>Short</td>\n",
       "      <td>0</td>\n",
       "    </tr>\n",
       "  </tbody>\n",
       "</table>\n",
       "<p>2 rows × 24 columns</p>\n",
       "</div>"
      ],
      "text/plain": [
       "         titleId                 title region titleType  startYear  \\\n",
       "Index                                                                \n",
       "0      tt0000019      The Clown Barber     GB     short     1898.0   \n",
       "1      tt0232670  The Soldier's Return     GB     short     1903.0   \n",
       "\n",
       "             genres  directors writers  AveRating  numVotes  ...  \\\n",
       "Index                                                        ...   \n",
       "0      Comedy,Short  nm0932055       0        5.3      19.0  ...   \n",
       "1       Drama,Short  nm0932055       0        5.4      98.0  ...   \n",
       "\n",
       "                            Dir_knownForTitles  Age_of_movie  Director_age  \\\n",
       "Index                                                                        \n",
       "0      tt0050976,tt0050986,tt0060827,tt0069467         124.0          89.0   \n",
       "1      tt0050976,tt0050986,tt0060827,tt0069467         119.0          89.0   \n",
       "\n",
       "      Decade P_writer  P_director  P_actor genere1 genere2 genere3  \n",
       "Index                                                               \n",
       "0         D6   writer    director    actor  Comedy   Short       0  \n",
       "1         D6   writer    director    actor   Drama   Short       0  \n",
       "\n",
       "[2 rows x 24 columns]"
      ]
     },
     "execution_count": 70,
     "metadata": {},
     "output_type": "execute_result"
    }
   ],
   "source": [
    "IMDB_data_NoDup.drop(columns={'genres', 'primaryProfession_director'}, axis=1)\n",
    "IMDB_data_NoDup.head(2)"
   ]
  },
  {
   "cell_type": "code",
   "execution_count": 71,
   "metadata": {},
   "outputs": [
    {
     "data": {
      "text/plain": [
       "Index(['titleId', 'title', 'region', 'titleType', 'startYear', 'genres',\n",
       "       'directors', 'writers', 'AveRating', 'numVotes', 'primaryName_Director',\n",
       "       'birthYear_Director', 'deathYear', 'primaryProfession_director',\n",
       "       'Dir_knownForTitles', 'Age_of_movie', 'Director_age', 'Decade',\n",
       "       'P_writer', 'P_director', 'P_actor', 'genere1', 'genere2', 'genere3'],\n",
       "      dtype='object')"
      ]
     },
     "execution_count": 71,
     "metadata": {},
     "output_type": "execute_result"
    }
   ],
   "source": [
    "IMDB_data_NoDup.columns"
   ]
  },
  {
   "cell_type": "markdown",
   "metadata": {},
   "source": [
    "### Saving dataframe after data handing and wrangling process "
   ]
  },
  {
   "cell_type": "code",
   "execution_count": 72,
   "metadata": {},
   "outputs": [],
   "source": [
    "IMDB_data_NoDup.to_csv(r'../../data/processed/IMDB_data_NoDup.csv')"
   ]
  }
 ],
 "metadata": {
  "kernelspec": {
   "display_name": "Python 3",
   "language": "python",
   "name": "python3"
  },
  "language_info": {
   "codemirror_mode": {
    "name": "ipython",
    "version": 3
   },
   "file_extension": ".py",
   "mimetype": "text/x-python",
   "name": "python",
   "nbconvert_exporter": "python",
   "pygments_lexer": "ipython3",
   "version": "3.9.7"
  }
 },
 "nbformat": 4,
 "nbformat_minor": 4
}
