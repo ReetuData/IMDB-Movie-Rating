{
 "cells": [
  {
   "cell_type": "markdown",
   "metadata": {},
   "source": [
    "### Importing Libraries"
   ]
  },
  {
   "cell_type": "code",
   "execution_count": 31,
   "metadata": {},
   "outputs": [],
   "source": [
    "import pandas as pd\n",
    "from sklearn.preprocessing import MinMaxScaler\n",
    "from sklearn.model_selection import train_test_split\n",
    "from sklearn.linear_model import LinearRegression\n",
    "import sklearn.metrics as metrics\n",
    "from sklearn.metrics import mean_squared_error\n",
    "import math\n",
    "import matplotlib.pyplot as plt\n",
    "import joblib"
   ]
  },
  {
   "cell_type": "code",
   "execution_count": 25,
   "metadata": {
    "id": "1T1clCzNQTHs"
   },
   "outputs": [],
   "source": [
    "\n",
    "import math\n",
    "import numpy as np\n",
    "from scipy.stats import norm\n",
    "from scipy import stats\n",
    "\n",
    "from sklearn.neighbors import KNeighborsClassifier\n",
    "from sklearn.metrics import classification_report\n",
    "from sklearn.model_selection import train_test_split\n",
    "from sklearn.metrics import roc_auc_score\n",
    "from sklearn.model_selection import GridSearchCV\n",
    "import numpy as np\n",
    "import matplotlib.pyplot as plt\n",
    "import seaborn as sns"
   ]
  },
  {
   "cell_type": "markdown",
   "metadata": {},
   "source": [
    "### Loading Processed Data\n",
    " "
   ]
  },
  {
   "cell_type": "code",
   "execution_count": 26,
   "metadata": {
    "colab": {
     "base_uri": "https://localhost:8080/",
     "height": 447
    },
    "id": "WQVkD59UQTHv",
    "outputId": "88750541-e531-42df-cf7e-ed63ac465c1f",
    "scrolled": true
   },
   "outputs": [
    {
     "data": {
      "text/html": [
       "<div>\n",
       "<style scoped>\n",
       "    .dataframe tbody tr th:only-of-type {\n",
       "        vertical-align: middle;\n",
       "    }\n",
       "\n",
       "    .dataframe tbody tr th {\n",
       "        vertical-align: top;\n",
       "    }\n",
       "\n",
       "    .dataframe thead th {\n",
       "        text-align: right;\n",
       "    }\n",
       "</style>\n",
       "<table border=\"1\" class=\"dataframe\">\n",
       "  <thead>\n",
       "    <tr style=\"text-align: right;\">\n",
       "      <th></th>\n",
       "      <th>Index</th>\n",
       "      <th>titleId</th>\n",
       "      <th>title</th>\n",
       "      <th>region</th>\n",
       "      <th>titleType</th>\n",
       "      <th>startYear</th>\n",
       "      <th>genres</th>\n",
       "      <th>directors</th>\n",
       "      <th>writers</th>\n",
       "      <th>AveRating</th>\n",
       "      <th>...</th>\n",
       "      <th>Dir_knownForTitles</th>\n",
       "      <th>Age_of_movie</th>\n",
       "      <th>Director_age</th>\n",
       "      <th>Decade</th>\n",
       "      <th>P_writer</th>\n",
       "      <th>P_director</th>\n",
       "      <th>P_actor</th>\n",
       "      <th>genere1</th>\n",
       "      <th>genere2</th>\n",
       "      <th>genere3</th>\n",
       "    </tr>\n",
       "  </thead>\n",
       "  <tbody>\n",
       "    <tr>\n",
       "      <th>0</th>\n",
       "      <td>0</td>\n",
       "      <td>tt0000019</td>\n",
       "      <td>The Clown Barber</td>\n",
       "      <td>GB</td>\n",
       "      <td>short</td>\n",
       "      <td>1898.0</td>\n",
       "      <td>Comedy,Short</td>\n",
       "      <td>nm0932055</td>\n",
       "      <td>0</td>\n",
       "      <td>5.3</td>\n",
       "      <td>...</td>\n",
       "      <td>tt0050976,tt0050986,tt0060827,tt0069467</td>\n",
       "      <td>124.0</td>\n",
       "      <td>89.0</td>\n",
       "      <td>D6</td>\n",
       "      <td>writer</td>\n",
       "      <td>director</td>\n",
       "      <td>actor</td>\n",
       "      <td>Comedy</td>\n",
       "      <td>Short</td>\n",
       "      <td>0</td>\n",
       "    </tr>\n",
       "    <tr>\n",
       "      <th>1</th>\n",
       "      <td>1</td>\n",
       "      <td>tt0232670</td>\n",
       "      <td>The Soldier's Return</td>\n",
       "      <td>GB</td>\n",
       "      <td>short</td>\n",
       "      <td>1903.0</td>\n",
       "      <td>Drama,Short</td>\n",
       "      <td>nm0932055</td>\n",
       "      <td>0</td>\n",
       "      <td>5.4</td>\n",
       "      <td>...</td>\n",
       "      <td>tt0050976,tt0050986,tt0060827,tt0069467</td>\n",
       "      <td>119.0</td>\n",
       "      <td>89.0</td>\n",
       "      <td>D6</td>\n",
       "      <td>writer</td>\n",
       "      <td>director</td>\n",
       "      <td>actor</td>\n",
       "      <td>Drama</td>\n",
       "      <td>Short</td>\n",
       "      <td>0</td>\n",
       "    </tr>\n",
       "  </tbody>\n",
       "</table>\n",
       "<p>2 rows × 25 columns</p>\n",
       "</div>"
      ],
      "text/plain": [
       "   Index    titleId                 title region titleType  startYear  \\\n",
       "0      0  tt0000019      The Clown Barber     GB     short     1898.0   \n",
       "1      1  tt0232670  The Soldier's Return     GB     short     1903.0   \n",
       "\n",
       "         genres  directors writers  AveRating  ...  \\\n",
       "0  Comedy,Short  nm0932055       0        5.3  ...   \n",
       "1   Drama,Short  nm0932055       0        5.4  ...   \n",
       "\n",
       "                        Dir_knownForTitles Age_of_movie  Director_age  Decade  \\\n",
       "0  tt0050976,tt0050986,tt0060827,tt0069467        124.0          89.0      D6   \n",
       "1  tt0050976,tt0050986,tt0060827,tt0069467        119.0          89.0      D6   \n",
       "\n",
       "  P_writer P_director  P_actor  genere1 genere2 genere3  \n",
       "0   writer   director    actor   Comedy   Short       0  \n",
       "1   writer   director    actor    Drama   Short       0  \n",
       "\n",
       "[2 rows x 25 columns]"
      ]
     },
     "execution_count": 26,
     "metadata": {},
     "output_type": "execute_result"
    }
   ],
   "source": [
    "IMDB_data_NoDup = \"../../data/processed/IMDB_data_NoDup.csv\"\n",
    "IMDB_data_NoDup = pd.read_csv(IMDB_data_NoDup, nrows = 10000)\n",
    "IMDB_data_NoDup.head(2)"
   ]
  },
  {
   "cell_type": "code",
   "execution_count": 27,
   "metadata": {},
   "outputs": [],
   "source": [
    "IMDB_data_NoDup = IMDB_data_NoDup.set_index(\"Index\")\n",
    "#IMDB_data_NoDup.head()\n",
    "IMDB_data_NoDup.reset_index(inplace=True)"
   ]
  },
  {
   "cell_type": "code",
   "execution_count": null,
   "metadata": {},
   "outputs": [],
   "source": []
  },
  {
   "cell_type": "code",
   "execution_count": 6,
   "metadata": {},
   "outputs": [
    {
     "data": {
      "text/html": [
       "<div>\n",
       "<style scoped>\n",
       "    .dataframe tbody tr th:only-of-type {\n",
       "        vertical-align: middle;\n",
       "    }\n",
       "\n",
       "    .dataframe tbody tr th {\n",
       "        vertical-align: top;\n",
       "    }\n",
       "\n",
       "    .dataframe thead th {\n",
       "        text-align: right;\n",
       "    }\n",
       "</style>\n",
       "<table border=\"1\" class=\"dataframe\">\n",
       "  <thead>\n",
       "    <tr style=\"text-align: right;\">\n",
       "      <th></th>\n",
       "      <th>Index</th>\n",
       "      <th>titleId</th>\n",
       "      <th>title</th>\n",
       "      <th>region</th>\n",
       "      <th>titleType</th>\n",
       "      <th>startYear</th>\n",
       "      <th>genres</th>\n",
       "      <th>directors</th>\n",
       "      <th>writers</th>\n",
       "      <th>AveRating</th>\n",
       "      <th>...</th>\n",
       "      <th>Dir_knownForTitles</th>\n",
       "      <th>Age_of_movie</th>\n",
       "      <th>Director_age</th>\n",
       "      <th>Decade</th>\n",
       "      <th>P_writer</th>\n",
       "      <th>P_director</th>\n",
       "      <th>P_actor</th>\n",
       "      <th>genere1</th>\n",
       "      <th>genere2</th>\n",
       "      <th>genere3</th>\n",
       "    </tr>\n",
       "  </thead>\n",
       "  <tbody>\n",
       "    <tr>\n",
       "      <th>0</th>\n",
       "      <td>0</td>\n",
       "      <td>tt0000019</td>\n",
       "      <td>The Clown Barber</td>\n",
       "      <td>GB</td>\n",
       "      <td>short</td>\n",
       "      <td>1898.0</td>\n",
       "      <td>Comedy,Short</td>\n",
       "      <td>nm0932055</td>\n",
       "      <td>0</td>\n",
       "      <td>5.3</td>\n",
       "      <td>...</td>\n",
       "      <td>tt0050976,tt0050986,tt0060827,tt0069467</td>\n",
       "      <td>124.0</td>\n",
       "      <td>89.0</td>\n",
       "      <td>D6</td>\n",
       "      <td>writer</td>\n",
       "      <td>director</td>\n",
       "      <td>actor</td>\n",
       "      <td>Comedy</td>\n",
       "      <td>Short</td>\n",
       "      <td>0</td>\n",
       "    </tr>\n",
       "    <tr>\n",
       "      <th>1</th>\n",
       "      <td>1</td>\n",
       "      <td>tt0232670</td>\n",
       "      <td>The Soldier's Return</td>\n",
       "      <td>GB</td>\n",
       "      <td>short</td>\n",
       "      <td>1903.0</td>\n",
       "      <td>Drama,Short</td>\n",
       "      <td>nm0932055</td>\n",
       "      <td>0</td>\n",
       "      <td>5.4</td>\n",
       "      <td>...</td>\n",
       "      <td>tt0050976,tt0050986,tt0060827,tt0069467</td>\n",
       "      <td>119.0</td>\n",
       "      <td>89.0</td>\n",
       "      <td>D6</td>\n",
       "      <td>writer</td>\n",
       "      <td>director</td>\n",
       "      <td>actor</td>\n",
       "      <td>Drama</td>\n",
       "      <td>Short</td>\n",
       "      <td>0</td>\n",
       "    </tr>\n",
       "    <tr>\n",
       "      <th>2</th>\n",
       "      <td>2</td>\n",
       "      <td>tt0271697</td>\n",
       "      <td>Our New Errand Boy</td>\n",
       "      <td>GB</td>\n",
       "      <td>short</td>\n",
       "      <td>1905.0</td>\n",
       "      <td>Comedy,Short</td>\n",
       "      <td>nm0932055</td>\n",
       "      <td>0</td>\n",
       "      <td>5.4</td>\n",
       "      <td>...</td>\n",
       "      <td>tt0050976,tt0050986,tt0060827,tt0069467</td>\n",
       "      <td>117.0</td>\n",
       "      <td>89.0</td>\n",
       "      <td>D6</td>\n",
       "      <td>writer</td>\n",
       "      <td>director</td>\n",
       "      <td>actor</td>\n",
       "      <td>Comedy</td>\n",
       "      <td>Short</td>\n",
       "      <td>0</td>\n",
       "    </tr>\n",
       "    <tr>\n",
       "      <th>3</th>\n",
       "      <td>3</td>\n",
       "      <td>tt0273227</td>\n",
       "      <td>The Forbidden Lover</td>\n",
       "      <td>GB</td>\n",
       "      <td>short</td>\n",
       "      <td>1898.0</td>\n",
       "      <td>Comedy,Short</td>\n",
       "      <td>nm0932055</td>\n",
       "      <td>nm0932055</td>\n",
       "      <td>4.4</td>\n",
       "      <td>...</td>\n",
       "      <td>tt0050976,tt0050986,tt0060827,tt0069467</td>\n",
       "      <td>124.0</td>\n",
       "      <td>89.0</td>\n",
       "      <td>D6</td>\n",
       "      <td>writer</td>\n",
       "      <td>director</td>\n",
       "      <td>actor</td>\n",
       "      <td>Comedy</td>\n",
       "      <td>Short</td>\n",
       "      <td>0</td>\n",
       "    </tr>\n",
       "    <tr>\n",
       "      <th>4</th>\n",
       "      <td>4</td>\n",
       "      <td>tt0274176</td>\n",
       "      <td>Two Naughty Boys Sprinkling the Spoons</td>\n",
       "      <td>GB</td>\n",
       "      <td>short</td>\n",
       "      <td>1898.0</td>\n",
       "      <td>Comedy,Short</td>\n",
       "      <td>nm0932055</td>\n",
       "      <td>nm0932055</td>\n",
       "      <td>4.4</td>\n",
       "      <td>...</td>\n",
       "      <td>tt0050976,tt0050986,tt0060827,tt0069467</td>\n",
       "      <td>124.0</td>\n",
       "      <td>89.0</td>\n",
       "      <td>D6</td>\n",
       "      <td>writer</td>\n",
       "      <td>director</td>\n",
       "      <td>actor</td>\n",
       "      <td>Comedy</td>\n",
       "      <td>Short</td>\n",
       "      <td>0</td>\n",
       "    </tr>\n",
       "  </tbody>\n",
       "</table>\n",
       "<p>5 rows × 25 columns</p>\n",
       "</div>"
      ],
      "text/plain": [
       "   Index    titleId                                   title region titleType  \\\n",
       "0      0  tt0000019                        The Clown Barber     GB     short   \n",
       "1      1  tt0232670                    The Soldier's Return     GB     short   \n",
       "2      2  tt0271697                      Our New Errand Boy     GB     short   \n",
       "3      3  tt0273227                     The Forbidden Lover     GB     short   \n",
       "4      4  tt0274176  Two Naughty Boys Sprinkling the Spoons     GB     short   \n",
       "\n",
       "   startYear        genres  directors    writers  AveRating  ...  \\\n",
       "0     1898.0  Comedy,Short  nm0932055          0        5.3  ...   \n",
       "1     1903.0   Drama,Short  nm0932055          0        5.4  ...   \n",
       "2     1905.0  Comedy,Short  nm0932055          0        5.4  ...   \n",
       "3     1898.0  Comedy,Short  nm0932055  nm0932055        4.4  ...   \n",
       "4     1898.0  Comedy,Short  nm0932055  nm0932055        4.4  ...   \n",
       "\n",
       "                        Dir_knownForTitles Age_of_movie  Director_age  Decade  \\\n",
       "0  tt0050976,tt0050986,tt0060827,tt0069467        124.0          89.0      D6   \n",
       "1  tt0050976,tt0050986,tt0060827,tt0069467        119.0          89.0      D6   \n",
       "2  tt0050976,tt0050986,tt0060827,tt0069467        117.0          89.0      D6   \n",
       "3  tt0050976,tt0050986,tt0060827,tt0069467        124.0          89.0      D6   \n",
       "4  tt0050976,tt0050986,tt0060827,tt0069467        124.0          89.0      D6   \n",
       "\n",
       "  P_writer P_director  P_actor  genere1 genere2 genere3  \n",
       "0   writer   director    actor   Comedy   Short       0  \n",
       "1   writer   director    actor    Drama   Short       0  \n",
       "2   writer   director    actor   Comedy   Short       0  \n",
       "3   writer   director    actor   Comedy   Short       0  \n",
       "4   writer   director    actor   Comedy   Short       0  \n",
       "\n",
       "[5 rows x 25 columns]"
      ]
     },
     "execution_count": 6,
     "metadata": {},
     "output_type": "execute_result"
    }
   ],
   "source": [
    "IMDB_data_NoDup.head()"
   ]
  },
  {
   "cell_type": "code",
   "execution_count": 7,
   "metadata": {
    "colab": {
     "base_uri": "https://localhost:8080/"
    },
    "id": "Y9I3rxq_QTH8",
    "outputId": "6b8f4c18-1aad-4aa2-d24b-8f5b4e6692bc"
   },
   "outputs": [
    {
     "data": {
      "text/plain": [
       "(10000, 25)"
      ]
     },
     "execution_count": 7,
     "metadata": {},
     "output_type": "execute_result"
    }
   ],
   "source": [
    "IMDB_data_NoDup.shape"
   ]
  },
  {
   "cell_type": "code",
   "execution_count": 8,
   "metadata": {},
   "outputs": [
    {
     "name": "stdout",
     "output_type": "stream",
     "text": [
      "<class 'pandas.core.frame.DataFrame'>\n",
      "RangeIndex: 10000 entries, 0 to 9999\n",
      "Data columns (total 25 columns):\n",
      " #   Column                      Non-Null Count  Dtype  \n",
      "---  ------                      --------------  -----  \n",
      " 0   Index                       10000 non-null  int64  \n",
      " 1   titleId                     10000 non-null  object \n",
      " 2   title                       10000 non-null  object \n",
      " 3   region                      10000 non-null  object \n",
      " 4   titleType                   10000 non-null  object \n",
      " 5   startYear                   10000 non-null  float64\n",
      " 6   genres                      10000 non-null  object \n",
      " 7   directors                   10000 non-null  object \n",
      " 8   writers                     10000 non-null  object \n",
      " 9   AveRating                   10000 non-null  float64\n",
      " 10  numVotes                    10000 non-null  float64\n",
      " 11  primaryName_Director        10000 non-null  object \n",
      " 12  birthYear_Director          10000 non-null  float64\n",
      " 13  deathYear                   10000 non-null  float64\n",
      " 14  primaryProfession_director  10000 non-null  object \n",
      " 15  Dir_knownForTitles          10000 non-null  object \n",
      " 16  Age_of_movie                10000 non-null  float64\n",
      " 17  Director_age                10000 non-null  float64\n",
      " 18  Decade                      10000 non-null  object \n",
      " 19  P_writer                    10000 non-null  object \n",
      " 20  P_director                  10000 non-null  object \n",
      " 21  P_actor                     10000 non-null  object \n",
      " 22  genere1                     10000 non-null  object \n",
      " 23  genere2                     10000 non-null  object \n",
      " 24  genere3                     10000 non-null  object \n",
      "dtypes: float64(7), int64(1), object(17)\n",
      "memory usage: 1.9+ MB\n"
     ]
    }
   ],
   "source": [
    "IMDB_data_NoDup.info()"
   ]
  },
  {
   "cell_type": "markdown",
   "metadata": {},
   "source": [
    "### Encoding Categorical Variables"
   ]
  },
  {
   "cell_type": "code",
   "execution_count": 9,
   "metadata": {},
   "outputs": [
    {
     "data": {
      "text/plain": [
       "Index(['Index', 'titleId', 'title', 'region', 'titleType', 'startYear',\n",
       "       'genres', 'directors', 'writers', 'AveRating', 'numVotes',\n",
       "       'primaryName_Director', 'birthYear_Director', 'deathYear',\n",
       "       'primaryProfession_director', 'Dir_knownForTitles', 'Age_of_movie',\n",
       "       'Director_age', 'Decade', 'P_writer', 'P_director', 'P_actor',\n",
       "       'genere1', 'genere2', 'genere3'],\n",
       "      dtype='object')"
      ]
     },
     "execution_count": 9,
     "metadata": {},
     "output_type": "execute_result"
    }
   ],
   "source": [
    "IMDB_data_NoDup.columns"
   ]
  },
  {
   "cell_type": "code",
   "execution_count": 10,
   "metadata": {},
   "outputs": [],
   "source": [
    "IMDB_data_NoDup = IMDB_data_NoDup.drop(['Index', 'startYear', 'genres', 'birthYear_Director', 'deathYear', 'Dir_knownForTitles', 'primaryProfession_director' ], axis=1)"
   ]
  },
  {
   "cell_type": "code",
   "execution_count": 11,
   "metadata": {},
   "outputs": [
    {
     "data": {
      "text/html": [
       "<div>\n",
       "<style scoped>\n",
       "    .dataframe tbody tr th:only-of-type {\n",
       "        vertical-align: middle;\n",
       "    }\n",
       "\n",
       "    .dataframe tbody tr th {\n",
       "        vertical-align: top;\n",
       "    }\n",
       "\n",
       "    .dataframe thead th {\n",
       "        text-align: right;\n",
       "    }\n",
       "</style>\n",
       "<table border=\"1\" class=\"dataframe\">\n",
       "  <thead>\n",
       "    <tr style=\"text-align: right;\">\n",
       "      <th></th>\n",
       "      <th>titleId</th>\n",
       "      <th>title</th>\n",
       "      <th>region</th>\n",
       "      <th>titleType</th>\n",
       "      <th>directors</th>\n",
       "      <th>writers</th>\n",
       "      <th>AveRating</th>\n",
       "      <th>numVotes</th>\n",
       "      <th>primaryName_Director</th>\n",
       "      <th>Age_of_movie</th>\n",
       "      <th>Director_age</th>\n",
       "      <th>Decade</th>\n",
       "      <th>P_writer</th>\n",
       "      <th>P_director</th>\n",
       "      <th>P_actor</th>\n",
       "      <th>genere1</th>\n",
       "      <th>genere2</th>\n",
       "      <th>genere3</th>\n",
       "    </tr>\n",
       "  </thead>\n",
       "  <tbody>\n",
       "    <tr>\n",
       "      <th>0</th>\n",
       "      <td>tt0000019</td>\n",
       "      <td>The Clown Barber</td>\n",
       "      <td>GB</td>\n",
       "      <td>short</td>\n",
       "      <td>nm0932055</td>\n",
       "      <td>0</td>\n",
       "      <td>5.3</td>\n",
       "      <td>19.0</td>\n",
       "      <td>Ingmar Bergman</td>\n",
       "      <td>124.0</td>\n",
       "      <td>89.0</td>\n",
       "      <td>D6</td>\n",
       "      <td>writer</td>\n",
       "      <td>director</td>\n",
       "      <td>actor</td>\n",
       "      <td>Comedy</td>\n",
       "      <td>Short</td>\n",
       "      <td>0</td>\n",
       "    </tr>\n",
       "    <tr>\n",
       "      <th>1</th>\n",
       "      <td>tt0232670</td>\n",
       "      <td>The Soldier's Return</td>\n",
       "      <td>GB</td>\n",
       "      <td>short</td>\n",
       "      <td>nm0932055</td>\n",
       "      <td>0</td>\n",
       "      <td>5.4</td>\n",
       "      <td>98.0</td>\n",
       "      <td>Ingmar Bergman</td>\n",
       "      <td>119.0</td>\n",
       "      <td>89.0</td>\n",
       "      <td>D6</td>\n",
       "      <td>writer</td>\n",
       "      <td>director</td>\n",
       "      <td>actor</td>\n",
       "      <td>Drama</td>\n",
       "      <td>Short</td>\n",
       "      <td>0</td>\n",
       "    </tr>\n",
       "  </tbody>\n",
       "</table>\n",
       "</div>"
      ],
      "text/plain": [
       "     titleId                 title region titleType  directors writers  \\\n",
       "0  tt0000019      The Clown Barber     GB     short  nm0932055       0   \n",
       "1  tt0232670  The Soldier's Return     GB     short  nm0932055       0   \n",
       "\n",
       "   AveRating  numVotes primaryName_Director  Age_of_movie  Director_age  \\\n",
       "0        5.3      19.0       Ingmar Bergman         124.0          89.0   \n",
       "1        5.4      98.0       Ingmar Bergman         119.0          89.0   \n",
       "\n",
       "  Decade P_writer P_director P_actor genere1 genere2 genere3  \n",
       "0     D6   writer   director   actor  Comedy   Short       0  \n",
       "1     D6   writer   director   actor   Drama   Short       0  "
      ]
     },
     "execution_count": 11,
     "metadata": {},
     "output_type": "execute_result"
    }
   ],
   "source": [
    "IMDB_data_NoDup.head(2)"
   ]
  },
  {
   "cell_type": "code",
   "execution_count": 12,
   "metadata": {},
   "outputs": [
    {
     "data": {
      "text/plain": [
       "Index(['titleId', 'title', 'region', 'titleType', 'directors', 'writers',\n",
       "       'AveRating', 'numVotes', 'primaryName_Director', 'Age_of_movie',\n",
       "       'Director_age', 'Decade', 'P_writer', 'P_director', 'P_actor',\n",
       "       'genere1', 'genere2', 'genere3'],\n",
       "      dtype='object')"
      ]
     },
     "execution_count": 12,
     "metadata": {},
     "output_type": "execute_result"
    }
   ],
   "source": [
    "IMDB_data_NoDup.columns"
   ]
  },
  {
   "cell_type": "code",
   "execution_count": 13,
   "metadata": {},
   "outputs": [
    {
     "name": "stdout",
     "output_type": "stream",
     "text": [
      "<class 'pandas.core.frame.DataFrame'>\n",
      "RangeIndex: 10000 entries, 0 to 9999\n",
      "Data columns (total 18 columns):\n",
      " #   Column                Non-Null Count  Dtype  \n",
      "---  ------                --------------  -----  \n",
      " 0   titleId               10000 non-null  object \n",
      " 1   title                 10000 non-null  object \n",
      " 2   region                10000 non-null  object \n",
      " 3   titleType             10000 non-null  object \n",
      " 4   directors             10000 non-null  object \n",
      " 5   writers               10000 non-null  object \n",
      " 6   AveRating             10000 non-null  float64\n",
      " 7   numVotes              10000 non-null  float64\n",
      " 8   primaryName_Director  10000 non-null  object \n",
      " 9   Age_of_movie          10000 non-null  float64\n",
      " 10  Director_age          10000 non-null  float64\n",
      " 11  Decade                10000 non-null  object \n",
      " 12  P_writer              10000 non-null  object \n",
      " 13  P_director            10000 non-null  object \n",
      " 14  P_actor               10000 non-null  object \n",
      " 15  genere1               10000 non-null  object \n",
      " 16  genere2               10000 non-null  object \n",
      " 17  genere3               10000 non-null  object \n",
      "dtypes: float64(4), object(14)\n",
      "memory usage: 1.4+ MB\n"
     ]
    }
   ],
   "source": [
    "IMDB_data_NoDup.info()"
   ]
  },
  {
   "cell_type": "code",
   "execution_count": 14,
   "metadata": {},
   "outputs": [],
   "source": [
    "IMDB_data_NoDup = pd.get_dummies(IMDB_data_NoDup, columns= ['titleId', 'title', 'region', 'titleType', 'directors', 'writers','primaryName_Director','Decade', 'P_writer', 'P_director', 'P_actor','genere1', 'genere2', 'genere3']) #, sparse=True)"
   ]
  },
  {
   "cell_type": "markdown",
   "metadata": {},
   "source": [
    "### Selecting dependent variable y "
   ]
  },
  {
   "cell_type": "code",
   "execution_count": 15,
   "metadata": {},
   "outputs": [
    {
     "data": {
      "text/plain": [
       "(10000, 1)"
      ]
     },
     "execution_count": 15,
     "metadata": {},
     "output_type": "execute_result"
    }
   ],
   "source": [
    "y = IMDB_data_NoDup[['AveRating']]\n",
    "#print(y)\n",
    "y.shape"
   ]
  },
  {
   "cell_type": "markdown",
   "metadata": {},
   "source": [
    "### Selecting independent variable X"
   ]
  },
  {
   "cell_type": "code",
   "execution_count": 16,
   "metadata": {},
   "outputs": [
    {
     "data": {
      "text/plain": [
       "(10000, 20996)"
      ]
     },
     "execution_count": 16,
     "metadata": {},
     "output_type": "execute_result"
    }
   ],
   "source": [
    "X = IMDB_data_NoDup.drop(['AveRating'], axis = 1)\n",
    "#print(X)\n",
    "X.shape"
   ]
  },
  {
   "cell_type": "markdown",
   "metadata": {},
   "source": [
    "### Scaling/normlization df "
   ]
  },
  {
   "cell_type": "code",
   "execution_count": 17,
   "metadata": {},
   "outputs": [],
   "source": [
    "#from sklearn.preprocessing import MinMaxScaler\n",
    "#scaler = MinMaxScaler() \n",
    "#scaled_values = scaler.fit_transform(y) "
   ]
  },
  {
   "cell_type": "markdown",
   "metadata": {},
   "source": [
    "### Splitting Data in train and test set"
   ]
  },
  {
   "cell_type": "code",
   "execution_count": 18,
   "metadata": {},
   "outputs": [
    {
     "name": "stdout",
     "output_type": "stream",
     "text": [
      "      AveRating\n",
      "5589        7.3\n",
      "9738        7.9\n",
      "94          5.0\n",
      "6228        8.0\n",
      "8741        2.6\n",
      "...         ...\n",
      "284         3.8\n",
      "5295        6.2\n",
      "3326        6.2\n",
      "754         5.8\n",
      "2888        4.8\n",
      "\n",
      "[8000 rows x 1 columns]\n"
     ]
    }
   ],
   "source": [
    "X_train, X_test, y_train, y_test = train_test_split(X, y, test_size=0.20)\n",
    "print(y_train)\n",
    "#type(X_train)"
   ]
  },
  {
   "cell_type": "markdown",
   "metadata": {},
   "source": [
    "### Modeling "
   ]
  },
  {
   "cell_type": "markdown",
   "metadata": {},
   "source": [
    "#### Regression Model"
   ]
  },
  {
   "cell_type": "code",
   "execution_count": 19,
   "metadata": {},
   "outputs": [],
   "source": [
    "#from sklearn.linear_model import LinearRegression\n",
    "# Create model\n",
    "regressor = LinearRegression()\n",
    "#fit the model\n",
    "model1 = regressor.fit(X_train, y_train)\n",
    "#predict the test set results\n",
    "y_pred = regressor.predict(X_test)\n"
   ]
  },
  {
   "cell_type": "code",
   "execution_count": 20,
   "metadata": {},
   "outputs": [
    {
     "name": "stdout",
     "output_type": "stream",
     "text": [
      "             0\n",
      "0     5.888388\n",
      "1     6.107403\n",
      "2     6.491744\n",
      "3     6.034629\n",
      "4     6.678090\n",
      "...        ...\n",
      "1995  6.022022\n",
      "1996  6.505951\n",
      "1997  6.506700\n",
      "1998  6.402211\n",
      "1999  6.286947\n",
      "\n",
      "[2000 rows x 1 columns]\n"
     ]
    }
   ],
   "source": [
    "print(pd.DataFrame(y_pred))"
   ]
  },
  {
   "cell_type": "markdown",
   "metadata": {},
   "source": [
    "### Printing metrics"
   ]
  },
  {
   "cell_type": "code",
   "execution_count": 21,
   "metadata": {},
   "outputs": [
    {
     "name": "stdout",
     "output_type": "stream",
     "text": [
      "intercept_: [8.35977666]\n",
      "reg.coef_ [[ 0.00113943 -0.01571628 -0.01454919 ... -0.69826795 -0.5713935\n",
      "   0.17882197]]\n",
      "Mean Square Error: 2.05\n",
      "Root Mean Square Error: 1.43\n",
      "R-Squared: 0.05\n"
     ]
    }
   ],
   "source": [
    "\n",
    "print(\"intercept_:\", regressor.intercept_)\n",
    "print(\"reg.coef_\", regressor.coef_)\n",
    "\n",
    "\n",
    "MSE = mean_squared_error(y_test, y_pred)\n",
    "print(\"Mean Square Error:\", \"{:.2f}\".format(MSE))\n",
    "\n",
    "RMSE = math.sqrt(MSE)\n",
    "print(\"Root Mean Square Error:\", \"{:.2f}\".format(RMSE))\n",
    "\n",
    "print(\"R-Squared:\", \"{:.2f}\".format(metrics.r2_score(y_test, y_pred)))\n",
    "#print(RMSE)\n",
    "\n"
   ]
  },
  {
   "cell_type": "markdown",
   "metadata": {},
   "source": [
    "#### Comparation of observed and predicted values"
   ]
  },
  {
   "cell_type": "code",
   "execution_count": 22,
   "metadata": {},
   "outputs": [
    {
     "data": {
      "image/png": "[encoded data removed]",
      "text/plain": [
       "<Figure size 720x1440 with 2 Axes>"
      ]
     },
     "metadata": {
      "needs_background": "light"
     },
     "output_type": "display_data"
    }
   ],
   "source": [
    "import matplotlib.pyplot as plt\n",
    "plt.figure(figsize=(10,20))\n",
    "plt.subplot(521)\n",
    "plt.xlabel(\"y_observed\")\n",
    "plt.ylabel(\"y-predicted\")\n",
    "plt.scatter(y_test, y_pred, color='red')\n",
    "plt.title(\"Comparision between y_test and Y_pred\")\n",
    "\n",
    "plt.subplot(522)\n",
    "plt.scatter(y_pred, (y_test - y_pred), color='black')\n",
    "plt.title(\"Error between y_test and Y_pred\")\n",
    "plt.xlabel(\"y_observed\")\n",
    "plt.ylabel(\"y-diff\")\n",
    "plt.show()\n"
   ]
  },
  {
   "cell_type": "markdown",
   "metadata": {},
   "source": [
    "#pip install joblib"
   ]
  },
  {
   "cell_type": "markdown",
   "metadata": {},
   "source": [
    "### Saving model in output directory"
   ]
  },
  {
   "cell_type": "code",
   "execution_count": 32,
   "metadata": {},
   "outputs": [
    {
     "data": {
      "text/plain": [
       "['../../models/model1.pkl']"
      ]
     },
     "execution_count": 32,
     "metadata": {},
     "output_type": "execute_result"
    }
   ],
   "source": [
    "joblib.dump(model1,'../../models/model1.pkl')"
   ]
  },
  {
   "cell_type": "markdown",
   "metadata": {},
   "source": [
    "### Load trained model"
   ]
  },
  {
   "cell_type": "code",
   "execution_count": 52,
   "metadata": {},
   "outputs": [],
   "source": [
    "#declare path where you saved your model\n",
    "outFileFolder = '../../models/'\n",
    "filePath = outFileFolder + 'model1.pkl'\n",
    "#open file\n",
    "file = open(filePath, \"rb\")\n",
    "#load the trained model\n",
    "trained_model = joblib.load(file)"
   ]
  },
  {
   "cell_type": "markdown",
   "metadata": {},
   "source": [
    "### Predict with trained model"
   ]
  },
  {
   "cell_type": "code",
   "execution_count": 53,
   "metadata": {},
   "outputs": [
    {
     "name": "stdout",
     "output_type": "stream",
     "text": [
      "[[5.88838849]\n",
      " [6.10740272]\n",
      " [6.49174397]\n",
      " ...\n",
      " [6.50670048]\n",
      " [6.40221128]\n",
      " [6.28694689]]\n"
     ]
    }
   ],
   "source": [
    "prediction = trained_model.predict(X_test)\n",
    "print(prediction)"
   ]
  },
  {
   "cell_type": "markdown",
   "metadata": {},
   "source": [
    "### Deploy Model With Flask Web Framework"
   ]
  },
  {
   "cell_type": "markdown",
   "metadata": {},
   "source": [
    "#### Create Flask application"
   ]
  },
  {
   "cell_type": "markdown",
   "metadata": {},
   "source": [
    "\n"
   ]
  },
  {
   "cell_type": "code",
   "execution_count": null,
   "metadata": {},
   "outputs": [],
   "source": []
  },
  {
   "cell_type": "code",
   "execution_count": null,
   "metadata": {},
   "outputs": [],
   "source": []
  },
  {
   "cell_type": "code",
   "execution_count": 76,
   "metadata": {},
   "outputs": [],
   "source": [
    "####Multicollinearity\n",
    "\n",
    "#from statsmodels.stats.outliers_influence import variance_inflation_factor\n",
    "# VIF dataframe\n",
    "#vif_data = pd.DataFrame()\n",
    "#vif_data[\"feature\"] = X.columns\n",
    "  \n",
    "# calculating VIF for each feature\n",
    "#vif_data[\"VIF\"] = [variance_inflation_factor(X.values, i)\n",
    "#for i in range(len(X.columns))]\n",
    "  \n",
    "#print(vif_data)"
   ]
  },
  {
   "cell_type": "code",
   "execution_count": null,
   "metadata": {},
   "outputs": [],
   "source": []
  }
 ],
 "metadata": {
  "colab": {
   "collapsed_sections": [],
   "name": "feature_engineering final.ipynb",
   "provenance": []
  },
  "kernelspec": {
   "display_name": "Python 3",
   "language": "python",
   "name": "python3"
  },
  "language_info": {
   "codemirror_mode": {
    "name": "ipython",
    "version": 3
   },
   "file_extension": ".py",
   "mimetype": "text/x-python",
   "name": "python",
   "nbconvert_exporter": "python",
   "pygments_lexer": "ipython3",
   "version": "3.9.7"
  }
 },
 "nbformat": 4,
 "nbformat_minor": 1
}
